{
 "cells": [
  {
   "cell_type": "code",
   "execution_count": 1,
   "id": "8de4305a",
   "metadata": {},
   "outputs": [],
   "source": [
    "import pandas as pd\n",
    "import re"
   ]
  },
  {
   "cell_type": "markdown",
   "id": "36a25a13",
   "metadata": {},
   "source": [
    "1. Write a function named is_vowel.\n",
    "\n",
    "It should accept a string as input and use a regular expression to determine if the passed string is a vowel.\n",
    "\n",
    "While not explicity mentioned in the lesson, you can treat the result of re.search as a boolean value that indicates whether or not the regular expression matches the given string."
   ]
  },
  {
   "cell_type": "code",
   "execution_count": 2,
   "id": "49988ee2",
   "metadata": {},
   "outputs": [],
   "source": [
    "def is_vowel(string):\n",
    "    \"\"\"\n",
    "    \n",
    "    \"\"\"\n",
    "    vowel = r'[aeiouAEIOU]'\n",
    "    if re.search(vowel, string):\n",
    "        print('Is a vowel')\n",
    "    else:\n",
    "        print('NOT a vowel')"
   ]
  },
  {
   "cell_type": "code",
   "execution_count": 3,
   "id": "461fb431",
   "metadata": {},
   "outputs": [
    {
     "name": "stdout",
     "output_type": "stream",
     "text": [
      "NOT a vowel\n"
     ]
    }
   ],
   "source": [
    "is_vowel(\"g\")"
   ]
  },
  {
   "cell_type": "code",
   "execution_count": 4,
   "id": "619ec2ff",
   "metadata": {},
   "outputs": [
    {
     "name": "stdout",
     "output_type": "stream",
     "text": [
      "Is a vowel\n"
     ]
    }
   ],
   "source": [
    "is_vowel(\"E\")"
   ]
  },
  {
   "cell_type": "code",
   "execution_count": 5,
   "id": "72441c75",
   "metadata": {},
   "outputs": [
    {
     "name": "stdout",
     "output_type": "stream",
     "text": [
      "Is a vowel\n"
     ]
    }
   ],
   "source": [
    "is_vowel(\"A\")"
   ]
  },
  {
   "cell_type": "markdown",
   "id": "53731edb",
   "metadata": {},
   "source": [
    "2. Write a function named is_valid_username that accepts a string as input.\n",
    "- A valid username starts with a lowercase letter, and\n",
    "only consists of lowercase letters, numbers, or the _ character.\n",
    "\n",
    "- It should also be no longer than 32 characters.\n",
    "\n",
    "- The function should return either True or False depending on whether the passed string is a valid username.\n",
    "\n",
    "is_valid_username('aaaaaaaaaaaaaaaaaaaaaaaaaaaaaaaaa')\n",
    "False\n",
    "\n",
    "is_valid_username('codeup')\n",
    "True\n",
    "\n",
    "is_valid_username('Codeup')\n",
    "False\n",
    "\n",
    "is_valid_username('codeup123')\n",
    "True\n",
    "\n",
    "is_valid_username('1codeup')\n",
    "False"
   ]
  },
  {
   "cell_type": "code",
   "execution_count": 10,
   "id": "213f9e9f",
   "metadata": {},
   "outputs": [],
   "source": [
    "username = r'^[a-z][a-z\\d*]{,31}$'\n",
    "re.search(username, '1codeup')"
   ]
  },
  {
   "cell_type": "code",
   "execution_count": 11,
   "id": "9fd4fb3d",
   "metadata": {},
   "outputs": [],
   "source": [
    "def is_valid_username(username):\n",
    "    \"\"\"\n",
    "    \n",
    "    \"\"\"\n",
    "    validid = r'^[a-z][a-z\\d*]{,31}$'\n",
    "    if re.search(validid, username):\n",
    "        return True\n",
    "    else:\n",
    "        return False"
   ]
  },
  {
   "cell_type": "code",
   "execution_count": 12,
   "id": "1e80cc73",
   "metadata": {},
   "outputs": [
    {
     "data": {
      "text/plain": [
       "False"
      ]
     },
     "execution_count": 12,
     "metadata": {},
     "output_type": "execute_result"
    }
   ],
   "source": [
    "is_valid_username('aaaaaaaaaaaaaaaaaaaaaaaaaaaaaaaaa')"
   ]
  },
  {
   "cell_type": "code",
   "execution_count": 13,
   "id": "d0951f24",
   "metadata": {},
   "outputs": [
    {
     "data": {
      "text/plain": [
       "True"
      ]
     },
     "execution_count": 13,
     "metadata": {},
     "output_type": "execute_result"
    }
   ],
   "source": [
    "is_valid_username('codeup')"
   ]
  },
  {
   "cell_type": "code",
   "execution_count": 14,
   "id": "485d470a",
   "metadata": {},
   "outputs": [
    {
     "data": {
      "text/plain": [
       "False"
      ]
     },
     "execution_count": 14,
     "metadata": {},
     "output_type": "execute_result"
    }
   ],
   "source": [
    "is_valid_username('Codeup')"
   ]
  },
  {
   "cell_type": "code",
   "execution_count": 15,
   "id": "4b22fa07",
   "metadata": {},
   "outputs": [
    {
     "data": {
      "text/plain": [
       "True"
      ]
     },
     "execution_count": 15,
     "metadata": {},
     "output_type": "execute_result"
    }
   ],
   "source": [
    "is_valid_username('codeup123')"
   ]
  },
  {
   "cell_type": "code",
   "execution_count": 16,
   "id": "46d95565",
   "metadata": {},
   "outputs": [
    {
     "data": {
      "text/plain": [
       "False"
      ]
     },
     "execution_count": 16,
     "metadata": {},
     "output_type": "execute_result"
    }
   ],
   "source": [
    "is_valid_username('1codeup')"
   ]
  },
  {
   "cell_type": "markdown",
   "id": "b0af686c",
   "metadata": {},
   "source": [
    "3. Write a regular expression to capture phone numbers. It should match all of the following:\n",
    "\n",
    "- (210) 867 5309\n",
    "- +1 210.867.5309\n",
    "- 867-5309\n",
    "- 210-867-5309"
   ]
  },
  {
   "cell_type": "code",
   "execution_count": 17,
   "id": "1b9d8931",
   "metadata": {},
   "outputs": [
    {
     "data": {
      "text/plain": [
       "<re.Match object; span=(0, 12), match='210-867-5309'>"
      ]
     },
     "execution_count": 17,
     "metadata": {},
     "output_type": "execute_result"
    }
   ],
   "source": [
    "phone = r'.{,3}?\\d{,3}?.{,2}?\\d{3}.{1}\\d{4}$'\n",
    "re.search(phone, '210-867-5309')"
   ]
  },
  {
   "cell_type": "code",
   "execution_count": 18,
   "id": "328a00b4",
   "metadata": {},
   "outputs": [],
   "source": [
    "phones = ['(210) 867 5309', \n",
    "'+1 210.867.5309', \n",
    "'867-5309', \n",
    "'210-867-5309', 'tim', '830-12121']"
   ]
  },
  {
   "cell_type": "code",
   "execution_count": 19,
   "id": "372c0e8b",
   "metadata": {
    "scrolled": true
   },
   "outputs": [
    {
     "name": "stdout",
     "output_type": "stream",
     "text": [
      "IS a phone number\n",
      "IS a phone number\n",
      "IS a phone number\n",
      "IS a phone number\n",
      "NOT a phone number\n",
      "NOT a phone number\n"
     ]
    }
   ],
   "source": [
    "for p in phones:\n",
    "    if re.search(phone, p):\n",
    "        print(\"IS a phone number\")\n",
    "    else:\n",
    "        print(\"NOT a phone number\")"
   ]
  },
  {
   "cell_type": "code",
   "execution_count": 25,
   "id": "5f7c1667",
   "metadata": {},
   "outputs": [],
   "source": [
    "df = pd.DataFrame()\n",
    "df['number']= ['(210) 867 5309', \n",
    "'+1 210.867.5309', \n",
    "'867-5309', \n",
    "'210-867-5309', 'tim', '830-12121']"
   ]
  },
  {
   "cell_type": "code",
   "execution_count": 22,
   "id": "8bd39a2f",
   "metadata": {},
   "outputs": [
    {
     "data": {
      "text/plain": [
       "'\\n^ #starts with\\n(?P<country_code>\\\\+\\\\d+)? #\"\\\\+\": escape, looking for literal + \"\\\\d+\": one or more digit OPTIONAL\\n\\\\D*? #optional zero or more opposite of numbers\\n(?P<area_code>\\\\d{3})? #OPTIONAL area code\\n\\\\D*? #optional zero or more opposite of numbers\\n(?P<exchange_code>\\\\d{3}) #nxx code\\n\\\\D*? #optional zero or more opposite of numbers\\n(?P<nxx_code>\\\\d{4}) #phone number\\n$\\n'"
      ]
     },
     "execution_count": 22,
     "metadata": {},
     "output_type": "execute_result"
    }
   ],
   "source": [
    "'''\n",
    "^ #starts with\n",
    "(?P<country_code>\\+\\d+)? #\"\\+\": escape, looking for literal + \"\\d+\": one or more digit OPTIONAL\n",
    "\\D*? #optional zero or more opposite of numbers\n",
    "(?P<area_code>\\d{3})? #OPTIONAL area code\n",
    "\\D*? #optional zero or more opposite of numbers\n",
    "(?P<exchange_code>\\d{3}) #nxx code\n",
    "\\D*? #optional zero or more opposite of numbers\n",
    "(?P<nxx_code>\\d{4}) #phone number\n",
    "$\n",
    "'''"
   ]
  },
  {
   "cell_type": "code",
   "execution_count": 23,
   "id": "f8cbf2a1",
   "metadata": {},
   "outputs": [],
   "source": [
    "phone_regex = re.compile(\n",
    "'''\n",
    "^ \n",
    "(?P<country_code>\\+\\d+)? \n",
    "\\D*? \n",
    "(?P<area_code>\\d{3})? \n",
    "\\D*? \n",
    "(?P<exchange_code>\\d{3}) \n",
    "\\D*? \n",
    "(?P<nxx_code>\\d{4})\n",
    "$\n",
    "''', re.X\n",
    ")"
   ]
  },
  {
   "cell_type": "code",
   "execution_count": 26,
   "id": "a25dc211",
   "metadata": {},
   "outputs": [
    {
     "data": {
      "text/html": [
       "<div>\n",
       "<style scoped>\n",
       "    .dataframe tbody tr th:only-of-type {\n",
       "        vertical-align: middle;\n",
       "    }\n",
       "\n",
       "    .dataframe tbody tr th {\n",
       "        vertical-align: top;\n",
       "    }\n",
       "\n",
       "    .dataframe thead th {\n",
       "        text-align: right;\n",
       "    }\n",
       "</style>\n",
       "<table border=\"1\" class=\"dataframe\">\n",
       "  <thead>\n",
       "    <tr style=\"text-align: right;\">\n",
       "      <th></th>\n",
       "      <th>country_code</th>\n",
       "      <th>area_code</th>\n",
       "      <th>exchange_code</th>\n",
       "      <th>nxx_code</th>\n",
       "    </tr>\n",
       "  </thead>\n",
       "  <tbody>\n",
       "    <tr>\n",
       "      <th>0</th>\n",
       "      <td>NaN</td>\n",
       "      <td>210</td>\n",
       "      <td>867</td>\n",
       "      <td>5309</td>\n",
       "    </tr>\n",
       "    <tr>\n",
       "      <th>1</th>\n",
       "      <td>+1</td>\n",
       "      <td>210</td>\n",
       "      <td>867</td>\n",
       "      <td>5309</td>\n",
       "    </tr>\n",
       "    <tr>\n",
       "      <th>2</th>\n",
       "      <td>NaN</td>\n",
       "      <td>NaN</td>\n",
       "      <td>867</td>\n",
       "      <td>5309</td>\n",
       "    </tr>\n",
       "    <tr>\n",
       "      <th>3</th>\n",
       "      <td>NaN</td>\n",
       "      <td>210</td>\n",
       "      <td>867</td>\n",
       "      <td>5309</td>\n",
       "    </tr>\n",
       "    <tr>\n",
       "      <th>4</th>\n",
       "      <td>NaN</td>\n",
       "      <td>NaN</td>\n",
       "      <td>NaN</td>\n",
       "      <td>NaN</td>\n",
       "    </tr>\n",
       "    <tr>\n",
       "      <th>5</th>\n",
       "      <td>NaN</td>\n",
       "      <td>NaN</td>\n",
       "      <td>NaN</td>\n",
       "      <td>NaN</td>\n",
       "    </tr>\n",
       "  </tbody>\n",
       "</table>\n",
       "</div>"
      ],
      "text/plain": [
       "  country_code area_code exchange_code nxx_code\n",
       "0          NaN       210           867     5309\n",
       "1           +1       210           867     5309\n",
       "2          NaN       NaN           867     5309\n",
       "3          NaN       210           867     5309\n",
       "4          NaN       NaN           NaN      NaN\n",
       "5          NaN       NaN           NaN      NaN"
      ]
     },
     "execution_count": 26,
     "metadata": {},
     "output_type": "execute_result"
    }
   ],
   "source": [
    "df['number'].str.extract(phone_regex)"
   ]
  },
  {
   "cell_type": "code",
   "execution_count": 27,
   "id": "1dc00656",
   "metadata": {},
   "outputs": [
    {
     "data": {
      "text/html": [
       "<div>\n",
       "<style scoped>\n",
       "    .dataframe tbody tr th:only-of-type {\n",
       "        vertical-align: middle;\n",
       "    }\n",
       "\n",
       "    .dataframe tbody tr th {\n",
       "        vertical-align: top;\n",
       "    }\n",
       "\n",
       "    .dataframe thead th {\n",
       "        text-align: right;\n",
       "    }\n",
       "</style>\n",
       "<table border=\"1\" class=\"dataframe\">\n",
       "  <thead>\n",
       "    <tr style=\"text-align: right;\">\n",
       "      <th></th>\n",
       "      <th>number</th>\n",
       "      <th>country_code</th>\n",
       "      <th>area_code</th>\n",
       "      <th>exchange_code</th>\n",
       "      <th>nxx_code</th>\n",
       "    </tr>\n",
       "  </thead>\n",
       "  <tbody>\n",
       "    <tr>\n",
       "      <th>0</th>\n",
       "      <td>(210) 867 5309</td>\n",
       "      <td>NaN</td>\n",
       "      <td>210</td>\n",
       "      <td>867</td>\n",
       "      <td>5309</td>\n",
       "    </tr>\n",
       "    <tr>\n",
       "      <th>1</th>\n",
       "      <td>+1 210.867.5309</td>\n",
       "      <td>+1</td>\n",
       "      <td>210</td>\n",
       "      <td>867</td>\n",
       "      <td>5309</td>\n",
       "    </tr>\n",
       "    <tr>\n",
       "      <th>2</th>\n",
       "      <td>867-5309</td>\n",
       "      <td>NaN</td>\n",
       "      <td>NaN</td>\n",
       "      <td>867</td>\n",
       "      <td>5309</td>\n",
       "    </tr>\n",
       "    <tr>\n",
       "      <th>3</th>\n",
       "      <td>210-867-5309</td>\n",
       "      <td>NaN</td>\n",
       "      <td>210</td>\n",
       "      <td>867</td>\n",
       "      <td>5309</td>\n",
       "    </tr>\n",
       "    <tr>\n",
       "      <th>4</th>\n",
       "      <td>tim</td>\n",
       "      <td>NaN</td>\n",
       "      <td>NaN</td>\n",
       "      <td>NaN</td>\n",
       "      <td>NaN</td>\n",
       "    </tr>\n",
       "    <tr>\n",
       "      <th>5</th>\n",
       "      <td>830-12121</td>\n",
       "      <td>NaN</td>\n",
       "      <td>NaN</td>\n",
       "      <td>NaN</td>\n",
       "      <td>NaN</td>\n",
       "    </tr>\n",
       "  </tbody>\n",
       "</table>\n",
       "</div>"
      ],
      "text/plain": [
       "            number country_code area_code exchange_code nxx_code\n",
       "0   (210) 867 5309          NaN       210           867     5309\n",
       "1  +1 210.867.5309           +1       210           867     5309\n",
       "2         867-5309          NaN       NaN           867     5309\n",
       "3     210-867-5309          NaN       210           867     5309\n",
       "4              tim          NaN       NaN           NaN      NaN\n",
       "5        830-12121          NaN       NaN           NaN      NaN"
      ]
     },
     "execution_count": 27,
     "metadata": {},
     "output_type": "execute_result"
    }
   ],
   "source": [
    "pd.concat([df, df['number'].str.extract(phone_regex)], axis=1)"
   ]
  },
  {
   "cell_type": "markdown",
   "id": "311eaaf7",
   "metadata": {},
   "source": [
    "4. Use regular expressions to convert the dates below to the standardized year-month-day format.\n",
    "- 02/04/19\n",
    "- 02/05/19\n",
    "- 02/06/19\n",
    "- 02/07/19\n",
    "- 02/08/19\n",
    "- 02/09/19\n",
    "- 02/10/19"
   ]
  },
  {
   "cell_type": "code",
   "execution_count": 28,
   "id": "615a668f",
   "metadata": {},
   "outputs": [],
   "source": [
    "dates = pd.Series(['02/04/19', \n",
    "'02/05/19', \n",
    "'02/06/19', \n",
    "'02/07/19', \n",
    "'02/08/19', \n",
    "'02/09/19', \n",
    "'02/10/19'])"
   ]
  },
  {
   "cell_type": "code",
   "execution_count": 30,
   "id": "db263d56",
   "metadata": {},
   "outputs": [
    {
     "data": {
      "text/plain": [
       "'19-02-04'"
      ]
     },
     "execution_count": 30,
     "metadata": {},
     "output_type": "execute_result"
    }
   ],
   "source": [
    "#YY-MM-DD\n",
    "dformat = r'(\\d{2})/(\\d{2})/(\\d{2})'\n",
    "re.sub(dformat, r'\\3-\\1-\\2', '02/04/19')"
   ]
  },
  {
   "cell_type": "code",
   "execution_count": 31,
   "id": "7401b9ca",
   "metadata": {},
   "outputs": [
    {
     "data": {
      "text/plain": [
       "0    19-02-04\n",
       "1    19-02-05\n",
       "2    19-02-06\n",
       "3    19-02-07\n",
       "4    19-02-08\n",
       "5    19-02-09\n",
       "6    19-02-10\n",
       "dtype: object"
      ]
     },
     "execution_count": 31,
     "metadata": {},
     "output_type": "execute_result"
    }
   ],
   "source": [
    "dates.str.replace(dformat, r'\\3-\\1-\\2', regex=True)"
   ]
  },
  {
   "cell_type": "code",
   "execution_count": 32,
   "id": "ab96c987",
   "metadata": {},
   "outputs": [],
   "source": [
    "dlist = ['02/04/19', \n",
    "'02/05/19', \n",
    "'02/06/19', \n",
    "'02/07/19', \n",
    "'02/08/19', \n",
    "'02/09/19', \n",
    "'02/10/19']"
   ]
  },
  {
   "cell_type": "code",
   "execution_count": 34,
   "id": "f5d03b54",
   "metadata": {},
   "outputs": [],
   "source": [
    "date_reg = r'(\\d+)/(\\d+)/(\\d+)'"
   ]
  },
  {
   "cell_type": "code",
   "execution_count": 35,
   "id": "60261ccb",
   "metadata": {},
   "outputs": [],
   "source": [
    "new_list = []\n",
    "for date in dlist:\n",
    "    new_list.append(re.sub(date_reg, r'\\3-\\1-\\2', date))"
   ]
  },
  {
   "cell_type": "code",
   "execution_count": 36,
   "id": "c99dc9a2",
   "metadata": {},
   "outputs": [
    {
     "data": {
      "text/plain": [
       "['19-02-04',\n",
       " '19-02-05',\n",
       " '19-02-06',\n",
       " '19-02-07',\n",
       " '19-02-08',\n",
       " '19-02-09',\n",
       " '19-02-10']"
      ]
     },
     "execution_count": 36,
     "metadata": {},
     "output_type": "execute_result"
    }
   ],
   "source": [
    "new_list"
   ]
  },
  {
   "cell_type": "markdown",
   "id": "364f13c9",
   "metadata": {},
   "source": [
    "Write a regex to extract the various parts of these logfile lines:\n",
    "- GET /api/v1/sales?page=86 [16/Apr/2019:193452+0000] HTTP/1.1 {200} 510348 \"python-requests/2.21.0\" 97.105.19.58\n",
    "- POST /users_accounts/file-upload [16/Apr/2019:193452+0000] HTTP/1.1 {201} 42 \"User-Agent: Mozilla/5.0 (X11; Fedora; Fedora; Linux x86_64) AppleWebKit/537.36 (KHTML, like Gecko) Chrome/73.0.3683.86 Safari/537.36\" 97.105.19.58\n",
    "- GET /api/v1/items?page=3 [16/Apr/2019:193453+0000] HTTP/1.1 {429} 3561 \"python-requests/2.21.0\" 97.105.19.58"
   ]
  },
  {
   "cell_type": "markdown",
   "id": "6fef0dda",
   "metadata": {},
   "source": [
    "#### Parts:\n",
    "GET /api/v1/sales?page=86 [16/Apr/2019:193452+0000] HTTP/1.1 {200} 510348 \"python-requests/2.21.0\" 97.105.19.58\n",
    "\n",
    "- method: GET\n",
    "- path: /api/v1/sales?page=86\n",
    "- begins with /, alphanumeric_ and -, one or more char\n",
    "- timestamp: [16/Apr/2019:193452+0000]\n",
    "- http version: HTTP/1.1\n",
    "- status code: {200}\n",
    "- bytes: 510348\n",
    "- user agent: \"python-requests/2.21.0\"\n",
    "- IP address: 97.105.19.58"
   ]
  },
  {
   "cell_type": "code",
   "execution_count": 38,
   "id": "73c2da10",
   "metadata": {},
   "outputs": [],
   "source": [
    "lines = \"\"\"\n",
    "GET /api/v1/sales?page=86 [16/Apr/2019:193452+0000] HTTP/1.1 {200} 510348 \"python-requests/2.21.0\" 97.105.19.58\n",
    "POST /users_accounts/file-upload [16/Apr/2019:193452+0000] HTTP/1.1 {201} 42 \"User-Agent: Mozilla/5.0 (X11; Fedora; Fedora; Linux x86_64) AppleWebKit/537.36 (KHTML, like Gecko) Chrome/73.0.3683.86 Safari/537.36\" 97.105.19.58\n",
    "GET /api/v1/items?page=3 [16/Apr/2019:193453+0000] HTTP/1.1 {429} 3561 \"python-requests/2.21.0\" 97.105.19.58\n",
    "\"\"\""
   ]
  },
  {
   "cell_type": "code",
   "execution_count": 49,
   "id": "977b77d2",
   "metadata": {
    "collapsed": true
   },
   "outputs": [
    {
     "data": {
      "text/plain": [
       "'\\n(?P<method>GET|POST)\\n\\\\s\\n(?P<path>[/\\\\w\\\\-\\\\?=]+)\\n\\\\s\\n\\\\[(?P<timestamp>.+)\\\\]\\n\\\\s\\n(?P<http_version>HTTP/\\\\d+\\\\.\\\\d+)\\n\\\\s\\n\\\\{(?P<status_code>\\\\d+)\\\\}\\n\\\\s\\n(?P<bytes_out>\\\\d+)\\n\\\\s\\n\"(?P<user_agent>.+)\"\\n\\\\s\\n(?P<ip_addr>\\\\d+\\\\.\\\\d+\\\\.\\\\d+\\\\.\\\\d+\\\\)\\n'"
      ]
     },
     "execution_count": 49,
     "metadata": {},
     "output_type": "execute_result"
    }
   ],
   "source": [
    "'''\n",
    "(?P<method>GET|POST)\n",
    "\\s\n",
    "(?P<path>[/\\w\\-\\?=]+)\n",
    "\\s\n",
    "\\[(?P<timestamp>.+)\\]\n",
    "\\s\n",
    "(?P<http_version>HTTP/\\d+\\.\\d+)\n",
    "\\s\n",
    "\\{(?P<status_code>\\d+)\\}\n",
    "\\s\n",
    "(?P<bytes_out>\\d+)\n",
    "\\s\n",
    "\"(?P<user_agent>.+)\"\n",
    "\\s\n",
    "(?P<ip_addr>\\d+\\.\\d+\\.\\d+\\.\\d+\\)\n",
    "'''"
   ]
  },
  {
   "cell_type": "code",
   "execution_count": null,
   "id": "b1389814",
   "metadata": {},
   "outputs": [],
   "source": []
  }
 ],
 "metadata": {
  "kernelspec": {
   "display_name": "Python 3 (ipykernel)",
   "language": "python",
   "name": "python3"
  },
  "language_info": {
   "codemirror_mode": {
    "name": "ipython",
    "version": 3
   },
   "file_extension": ".py",
   "mimetype": "text/x-python",
   "name": "python",
   "nbconvert_exporter": "python",
   "pygments_lexer": "ipython3",
   "version": "3.9.12"
  }
 },
 "nbformat": 4,
 "nbformat_minor": 5
}
