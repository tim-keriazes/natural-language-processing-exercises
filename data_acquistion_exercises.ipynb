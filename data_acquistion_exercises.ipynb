{
 "cells": [
  {
   "cell_type": "markdown",
   "id": "0518faa1",
   "metadata": {},
   "source": [
    "### Exercises\n",
    "By the end of this exercise, you should have a file named acquire.py that contains the specified functions. If you wish, you may break your work into separate files for each website (e.g. acquire_codeup_blog.py and acquire_news_articles.py), but the end function should be present in acquire.py (that is, acquire.py should import get_blog_articles from the acquire_codeup_blog module.)"
   ]
  },
  {
   "cell_type": "code",
   "execution_count": 6,
   "id": "d068bb70",
   "metadata": {},
   "outputs": [],
   "source": [
    "from requests import get\n",
    "from bs4 import BeautifulSoup\n",
    "import os\n",
    "import pandas as pd"
   ]
  },
  {
   "cell_type": "markdown",
   "id": "45c4ef50",
   "metadata": {},
   "source": [
    "1. Codeup Blog Articles\n",
    "Scrape the article text from the following pages:\n",
    "\n",
    "https://codeup.com/data-science/recession-proof-career/\n",
    "\n",
    "https://codeup.com/featured/series-part-3-web-development/\n",
    "\n",
    "https://codeup.com/data-science-vs-data-analytics-whats-the-difference/\n",
    "\n",
    "https://codeup.com/featured/what-jobs-can-you-get-after-a-coding-bootcamp-part-2-cloud-administration/\n",
    "\n",
    "https://codeup.com/data-science/jobs-after-a-coding-bootcamp-part-1-data-science/\n",
    "\n",
    "Encapsulate your work in a function named get_blog_articles that will return a list of dictionaries, with each dictionary representing one article. The shape of each dictionary should look like this:\n",
    "\n",
    "{\n",
    "    'title': 'the title of the article',\n",
    "    'content': 'the full text content of the article'\n",
    "}"
   ]
  },
  {
   "cell_type": "code",
   "execution_count": 7,
   "id": "9f9e9004",
   "metadata": {},
   "outputs": [],
   "source": [
    "url = 'https://codeup.com/data-science/recession-proof-career/'\n",
    "#headers = {'User-Agent': 'Mozilla/5.0 (Macintosh; Intel Mac OS X 10_11_5) AppleWebKit/537.36 (KHTML, like Gecko) Chrome/50.0.2661.102 Safari/537.36'}\n",
    "response = requests.get(url, headers=headers)\n",
    "\n",
    "html = response.text\n",
    "soup = bs4.BeautifulSoup(html)"
   ]
  },
  {
   "cell_type": "code",
   "execution_count": 8,
   "id": "ee3dff24",
   "metadata": {},
   "outputs": [
    {
     "data": {
      "text/plain": [
       "<Response [200]>"
      ]
     },
     "execution_count": 8,
     "metadata": {},
     "output_type": "execute_result"
    }
   ],
   "source": [
    "response"
   ]
  },
  {
   "cell_type": "code",
   "execution_count": 9,
   "id": "1cbd4c7c",
   "metadata": {},
   "outputs": [
    {
     "ename": "IndexError",
     "evalue": "list index out of range",
     "output_type": "error",
     "traceback": [
      "\u001b[1;31m---------------------------------------------------------------------------\u001b[0m",
      "\u001b[1;31mIndexError\u001b[0m                                Traceback (most recent call last)",
      "Input \u001b[1;32mIn [9]\u001b[0m, in \u001b[0;36m<cell line: 1>\u001b[1;34m()\u001b[0m\n\u001b[1;32m----> 1\u001b[0m \u001b[43msoup\u001b[49m\u001b[38;5;241;43m.\u001b[39;49m\u001b[43mselect\u001b[49m\u001b[43m(\u001b[49m\u001b[38;5;124;43m'\u001b[39;49m\u001b[38;5;124;43m#jupiterx-primary\u001b[39;49m\u001b[38;5;124;43m'\u001b[39;49m\u001b[43m)\u001b[49m\u001b[43m[\u001b[49m\u001b[38;5;241;43m0\u001b[39;49m\u001b[43m]\u001b[49m\n",
      "\u001b[1;31mIndexError\u001b[0m: list index out of range"
     ]
    }
   ],
   "source": [
    "soup.select('#jupiterx-primary')[0]"
   ]
  },
  {
   "cell_type": "code",
   "execution_count": 10,
   "id": "a6ec9e22",
   "metadata": {},
   "outputs": [],
   "source": [
    "def get_blog_posts():\n",
    "    filename = './codeup_blog_posts.csv'\n",
    "\n",
    "    # check for presence of the file or make a new request\n",
    "    if os.path.exists(filename):\n",
    "        return pd.read_csv(filename)\n",
    "    else:\n",
    "        return make_new_request()"
   ]
  },
  {
   "cell_type": "code",
   "execution_count": 11,
   "id": "4e1fa5b9",
   "metadata": {},
   "outputs": [],
   "source": [
    "def make_dictionary_from_article(url): \n",
    "    # Set header and user agent to increase likelihood that your request get the response you want\n",
    "    headers = {'user-agent': 'Codeup Bayes Instructor Example'}\n",
    "\n",
    "    # This is the actual HTTP GET request that python will send across the internet\n",
    "    response = get(url, headers=headers)\n",
    "\n",
    "    # response.text is a single string of all the html from that page\n",
    "    soup = BeautifulSoup(response.text, 'html.parser')\n",
    "\n",
    "    title = soup.title.get_text()\n",
    "    body = soup.select(\"div.mk-single-content.clearfix\")[0].get_text()\n",
    "\n",
    "    output = {}\n",
    "    output[\"title\"] = title\n",
    "    output[\"body\"] = body\n",
    "    return output"
   ]
  },
  {
   "cell_type": "code",
   "execution_count": 12,
   "id": "fb59cec7",
   "metadata": {},
   "outputs": [],
   "source": [
    "def make_new_request():\n",
    "    urls = [\n",
    "        \"https://codeup.com/data-science/recession-proof-career/\",\n",
    "        \"https://codeup.com/featured/series-part-3-web-development/\",\n",
    "        \"https://codeup.com/data-science-vs-data-analytics-whats-the-difference/\",\n",
    "        \"https://codeup.com/featured/what-jobs-can-you-get-after-a-coding-bootcamp-part-2-cloud-administration/\",\n",
    "        \"https://codeup.com/data-science/jobs-after-a-coding-bootcamp-part-1-data-science/\",\n",
    "    ]\n",
    "\n",
    "    output = []\n",
    "    \n",
    "    for url in urls:\n",
    "        article_dictionary = make_dictionary_from_article(url)\n",
    "        output.append(article_dictionary)\n",
    "\n",
    "    df = pd.DataFrame(output)\n",
    "    df.to_csv('./codeup_blog_posts.csv') \n",
    "\n",
    "    return df"
   ]
  },
  {
   "cell_type": "code",
   "execution_count": 18,
   "id": "bf499936",
   "metadata": {},
   "outputs": [
    {
     "ename": "IndexError",
     "evalue": "list index out of range",
     "output_type": "error",
     "traceback": [
      "\u001b[1;31m---------------------------------------------------------------------------\u001b[0m",
      "\u001b[1;31mIndexError\u001b[0m                                Traceback (most recent call last)",
      "Input \u001b[1;32mIn [18]\u001b[0m, in \u001b[0;36m<cell line: 1>\u001b[1;34m()\u001b[0m\n\u001b[1;32m----> 1\u001b[0m \u001b[43mmake_new_request\u001b[49m\u001b[43m(\u001b[49m\u001b[43m)\u001b[49m\n",
      "Input \u001b[1;32mIn [12]\u001b[0m, in \u001b[0;36mmake_new_request\u001b[1;34m()\u001b[0m\n\u001b[0;32m     10\u001b[0m output \u001b[38;5;241m=\u001b[39m []\n\u001b[0;32m     12\u001b[0m \u001b[38;5;28;01mfor\u001b[39;00m url \u001b[38;5;129;01min\u001b[39;00m urls:\n\u001b[1;32m---> 13\u001b[0m     article_dictionary \u001b[38;5;241m=\u001b[39m \u001b[43mmake_dictionary_from_article\u001b[49m\u001b[43m(\u001b[49m\u001b[43murl\u001b[49m\u001b[43m)\u001b[49m\n\u001b[0;32m     14\u001b[0m     output\u001b[38;5;241m.\u001b[39mappend(article_dictionary)\n\u001b[0;32m     16\u001b[0m df \u001b[38;5;241m=\u001b[39m pd\u001b[38;5;241m.\u001b[39mDataFrame(output)\n",
      "Input \u001b[1;32mIn [11]\u001b[0m, in \u001b[0;36mmake_dictionary_from_article\u001b[1;34m(url)\u001b[0m\n\u001b[0;32m      9\u001b[0m soup \u001b[38;5;241m=\u001b[39m BeautifulSoup(response\u001b[38;5;241m.\u001b[39mtext, \u001b[38;5;124m'\u001b[39m\u001b[38;5;124mhtml.parser\u001b[39m\u001b[38;5;124m'\u001b[39m)\n\u001b[0;32m     11\u001b[0m title \u001b[38;5;241m=\u001b[39m soup\u001b[38;5;241m.\u001b[39mtitle\u001b[38;5;241m.\u001b[39mget_text()\n\u001b[1;32m---> 12\u001b[0m body \u001b[38;5;241m=\u001b[39m \u001b[43msoup\u001b[49m\u001b[38;5;241;43m.\u001b[39;49m\u001b[43mselect\u001b[49m\u001b[43m(\u001b[49m\u001b[38;5;124;43m\"\u001b[39;49m\u001b[38;5;124;43mdiv.mk-single-content.clearfix\u001b[39;49m\u001b[38;5;124;43m\"\u001b[39;49m\u001b[43m)\u001b[49m\u001b[43m[\u001b[49m\u001b[38;5;241;43m0\u001b[39;49m\u001b[43m]\u001b[49m\u001b[38;5;241m.\u001b[39mget_text()\n\u001b[0;32m     14\u001b[0m output \u001b[38;5;241m=\u001b[39m {}\n\u001b[0;32m     15\u001b[0m output[\u001b[38;5;124m\"\u001b[39m\u001b[38;5;124mtitle\u001b[39m\u001b[38;5;124m\"\u001b[39m] \u001b[38;5;241m=\u001b[39m title\n",
      "\u001b[1;31mIndexError\u001b[0m: list index out of range"
     ]
    }
   ],
   "source": [
    "make_new_request()"
   ]
  },
  {
   "cell_type": "code",
   "execution_count": 14,
   "id": "44efb30a",
   "metadata": {},
   "outputs": [],
   "source": [
    "def get_news_articles():\n",
    "    filename = 'inshorts_news_articles.csv'\n",
    "\n",
    "    # check for presence of the file or make a new request\n",
    "    if os.path.exists(filename):\n",
    "        return pd.read_csv(filename)\n",
    "    else:\n",
    "        return make_new_request()"
   ]
  },
  {
   "cell_type": "code",
   "execution_count": 15,
   "id": "bd7feed0",
   "metadata": {},
   "outputs": [],
   "source": [
    "def get_articles_from_topic(url):\n",
    "    headers = {'user-agent': 'Codeup Bayes Instructor Example'}\n",
    "    response = get(url, headers=headers)\n",
    "    soup = BeautifulSoup(response.content, 'html.parser')\n",
    "\n",
    "    output = []\n",
    "\n",
    "    articles = soup.select(\".news-card\")\n",
    "\n",
    "    for article in articles: \n",
    "        title = article.select(\"[itemprop='headline']\")[0].get_text()\n",
    "        content = article.select(\"[itemprop='articleBody']\")[0].get_text()\n",
    "        author = article.select(\".author\")[0].get_text()\n",
    "        published_date = article.select(\".time\")[0][\"content\"]\n",
    "        category = response.url.split(\"/\")[-1]\n",
    "\n",
    "        article_data = {\n",
    "            'title': title,\n",
    "            'content': content,\n",
    "            'category': category,\n",
    "            'author': author,\n",
    "            'published_date': published_date,\n",
    "        }\n",
    "        output.append(article_data)\n",
    "\n",
    "\n",
    "    return output"
   ]
  },
  {
   "cell_type": "code",
   "execution_count": 16,
   "id": "1bcbf199",
   "metadata": {},
   "outputs": [],
   "source": [
    "def make_new_article_request():\n",
    "    urls = [\n",
    "        \"https://inshorts.com/en/read/business\",\n",
    "        \"https://inshorts.com/en/read/sports\",\n",
    "        \"https://inshorts.com/en/read/technology\",\n",
    "        \"https://inshorts.com/en/read/entertainment\"\n",
    "    ]\n",
    "\n",
    "    output = []\n",
    "    \n",
    "    for url in urls:\n",
    "        # We use .extend in order to make a flat output list.\n",
    "        output.extend(get_articles_from_topic(url))\n",
    "\n",
    "    print(\"stuff\")\n",
    "    print(output)\n",
    "    df = pd.DataFrame(output)\n",
    "    df.to_csv('inshorts_news_articles.csv') \n",
    "\n",
    "    return df"
   ]
  },
  {
   "cell_type": "code",
   "execution_count": 17,
   "id": "a5ddf519",
   "metadata": {},
   "outputs": [
    {
     "name": "stdout",
     "output_type": "stream",
     "text": [
      "stuff\n",
      "[{'title': \"India's GDP grows at 13.5% in first quarter of FY23, fastest in a year\", 'content': \"India's GDP grew at 13.5% in the first quarter of FY23, achieving its fastest annual expansion in a year, government data showed. However, it is lower than the Reserve Bank of India's (RBI) projection of 16.2% GDP growth in the first quarter of FY23. India's GDP growth in the first quarter of FY22 was 20.1%.\", 'category': 'business', 'author': 'Anmol Sharma', 'published_date': '2022-08-31T12:24:39.000Z'}, {'title': '2 top executives at Snap quit hours after report about 20% layoffs emerges', 'content': 'Two senior advertising executives at Snap quit hours after a report emerged stating that the company was planning to cut about 20% of its workforce. Earlier, a report by The Verge, while citing sources, said that Snap is planning to lay off 20% of its more than 6,400 employees after it reported weak Q2 results. ', 'category': 'business', 'author': 'Ridham Gambhir', 'published_date': '2022-08-31T04:11:41.000Z'}, {'title': \"Musk seeks to delay Twitter trial to Nov amid whistleblower's claims\", 'content': \"Tesla CEO Elon Musk is seeking to delay the trial with Twitter until November, as per court filings. The five-day trial is currently scheduled to start on October 17. The court filings came after Musk's legal team sent a fresh letter to Twitter to include whistleblower Peiter Zatko's claims as another reason to end the $44 billion deal.\", 'category': 'business', 'author': 'Ridham Gambhir', 'published_date': '2022-08-31T03:16:29.000Z'}, {'title': 'Snap to lay off 20% of staff, cancel several projects to cut costs', 'content': 'Snap said on Wednesday it will lay off 20% of its staff and shut down original shows, in-app games and several other projects as part of a corporate restructuring. As per CEO  Evan Spiegel, Snap\\'s current revenue growth rate is \"well below\" what the company was expecting. The cut will help Snap save an estimated $500 million in costs annually. ', 'category': 'business', 'author': 'Ananya Goyal', 'published_date': '2022-08-31T14:48:01.000Z'}, {'title': 'Viral video shows Amazon parcels thrown out of train at station, Railways clarifies', 'content': 'A video from Guwahati railway station has gone viral which shows Amazon parcels being thrown on the platform as they are unloaded from a train. After some social media users alleged that Railways\\' employees were carelessly unloading the parcels, Northeast Frontier Railway said, \"This is an old video from March, 2022...The persons handling parcels are representatives of concerned party.\"', 'category': 'business', 'author': 'Apaar Sharma', 'published_date': '2022-08-31T08:21:25.000Z'}, {'title': 'Dell among firms conducting stay interviews to contain high attrition rates: Report', 'content': 'To contain the high attrition rates, some companies are now reportedly using stay interviews. In stay interviews, companies speak to the employees about their importance to the organisation while addressing the issues they might be facing prompting them to quit. Dell Technologies and Ericsson are among the companies which have been conducting such interviews with employees. ', 'category': 'business', 'author': 'Ridham Gambhir', 'published_date': '2022-08-31T10:31:29.000Z'}, {'title': \"World's 3rd richest person Adani's wealth surged over 13 times in 2.5 years\", 'content': \"Adani Group Chairman Gautam Adani on Tuesday became the world's third richest person with a net worth of $137 billion. While his wealth stood at $10 billion on January 1, 2020, it surged by over $60 billion in 2022 alone and jumped more than thirteen times in over two and half years. Currently, his net worth stands at $143 billion. \", 'category': 'business', 'author': 'Ridham Gambhir', 'published_date': '2022-08-31T06:01:51.000Z'}, {'title': \"Russia's Gazprom halts gas supply to Europe via major pipeline\", 'content': 'Russia stopped gas supplies via a major pipeline to Europe on Wednesday with state energy company Gazprom saying that no gas would flow into Germany between Wednesday and Saturday. This is because of the outage for maintenance on Nord Stream 1. While European governments have accused Russia of using energy supplies as a \"weapon of war\", Moscow has denied this.\\n', 'category': 'business', 'author': 'Srishty Choudhury', 'published_date': '2022-08-31T05:22:40.000Z'}, {'title': \"Indonesia's GoTo seeks to raise $1 billion via convertible bonds: Report\", 'content': \"Indonesia's largest technology firm GoTo is seeking to raise about $1 billion through a convertible bond issue, Reuters reported. The company, formed last year after the merger of ride hailing firm Gojek and e-commerce leader Tokopedia, is reportedly working with three financial advisors for the offering. The offer is expected to be launched in the fourth quarter.\", 'category': 'business', 'author': 'Ashley Paul', 'published_date': '2022-08-30T13:12:02.000Z'}, {'title': 'SoftBank Corporate Officer Rajeev Misra steps down amid record loss', 'content': \"SoftBank Group's Corporate Officer and Executive Vice President Rajeev Misra is stepping down from his roles, the Japanese conglomerate said on Wednesday. This development follows a record loss at the Japanese investment group after a slide in technology stocks. Misra will retain his position as head of SoftBank Investment Advisers, which oversees the first Vision Fund's existing investments.\\n\", 'category': 'business', 'author': 'Srishty Choudhury', 'published_date': '2022-08-31T11:34:00.000Z'}, {'title': \"Most of crypto still junk: JP Morgan's digital assets division head\", 'content': 'JP Morgan\\'s digital assets division head Umar Farooq said majority of crypto assets are \"junk\" and actual crypto use cases haven\\'t fully materialised. Regulation hasn\\'t kept up with the expanding industry, thereby discouraging many conventional financial institutions from participating, he said. Industry hasn\\'t developed sufficiently to be used to support high-value serious transactions, he added.', 'category': 'business', 'author': 'Ashley Paul', 'published_date': '2022-08-30T15:10:39.000Z'}, {'title': 'Netflix hires 2 top advertising executives from Snapchat-parent Snap Inc', 'content': \"Netflix on Tuesday announced that it has hired two top executives from Snap Inc. The firm's Chief Business Officer Jeremi Gorman has been hired as Netflix's head of worldwide advertising while Snap Inc's VP of advertising sales Peter Naylor has been hired for the same role. The hiring signals Netflix's commitment to building an ad-supported version of its streaming service.\", 'category': 'business', 'author': 'Ashley Paul', 'published_date': '2022-08-31T10:43:16.000Z'}, {'title': 'Japan calls for $24 bn investment to boost battery competitiveness', 'content': \"Japan's Ministry of Economy, Trade and Industry said that the country needs an investment worth over $24 billion from the public and private sectors to develop a competitive manufacturing base for batteries used in electric vehicles (EVs). A specialist panel has set a target of securing 30,000 trained workers for battery manufacturing and supply chains by 2030.\\n\", 'category': 'business', 'author': 'Purnima Rajput', 'published_date': '2022-08-31T10:44:52.000Z'}, {'title': 'Infosys divests entire stake in US-based Trifacta for $12 million', 'content': \"Infosys said that it has divested its stake in Trifacta Inc, a data preparation software company, for $12 million. Infosys had invested $4 million in the San Francisco-based company in 2016. It had a minority holding not exceeding 20% of Trifacta's outstanding share capital. Trifacta was founded in 2012 and its investors include Accel, Greylock Partners, Ignition and Cathay Innovation.\\n\", 'category': 'business', 'author': 'Srishty Choudhury', 'published_date': '2022-08-31T08:49:44.000Z'}, {'title': \"Tata Motors completes buying of Marcopolo's stake for ₹99.96 crore\", 'content': \"Tata Motors has completed the acquisition of its partner Marcopolo's stake in their joint venture Tata Marcopolo Motors Limited (TMML) for ₹99.96 crore. The 51:49 joint venture between the two was formed in 2006. Tata Motors and Marcopolo had signed a deal under which the former agreed to purchase 49% shareholding of Marcopolo in the joint venture in December 2020.\\n\", 'category': 'business', 'author': 'Srishty Choudhury', 'published_date': '2022-08-31T08:40:53.000Z'}, {'title': 'Axis Bank looking to acquire 10% stake in Go Digit: Report', 'content': 'Axis Bank is looking to acquire a 10% stake for around $9 million in Go Digit Life Insurance, as per a report. Last week, HDFC Bank in a regulatory filing declared that it was planning to buy a 9.94% stake in Go Digit Life for $9 million. Go Digit Insurance recently filed papers to raise $440 million via an IPO. ', 'category': 'business', 'author': 'Anisha Joneja', 'published_date': '2022-08-30T16:33:10.000Z'}, {'title': 'EV firm Lucid files mixed shelf offering of up to $8 bn', 'content': 'Electric vehicle company Lucid Group Inc has filed for a new mixed shelf offering of up to $8 billion. Under this, the EV maker may sell different securities in either one or more offerings with the size, price and terms to be decided at the time of sale. Lucid has a market capitalisation of about $27 billion. ', 'category': 'business', 'author': 'Anisha Joneja', 'published_date': '2022-08-30T16:27:11.000Z'}, {'title': 'States, UTs to get chana at ₹8/kg discount for welfare schemes', 'content': 'The Union Cabinet has approved the disposal of 15 lakh tonne of chana to states and Union Territories at a discount of ₹8/kg for utilisation in various welfare schemes. These will be offered on a \"first come, first served\" basis and can be utilised in Mid Day Meal Scheme, Public Distribution System and Integrated Child Development Services, among others.', 'category': 'business', 'author': 'Srishty Choudhury', 'published_date': '2022-08-31T11:19:14.000Z'}, {'title': 'Pak at challenging economic juncture: IMF while approving bailout', 'content': 'Pakistan is at a \"challenging economic juncture\", the International Monetary Fund (IMF) said while approving a $1.17 billion bailout plan amid widespread destruction due to floods. IMF\\'s Executive Board completed the reviews of a loan facility for Pakistan on Monday. It will put the cash-starved country\\'s economy back on track averting an imminent default amid persisting political uncertainty.\\n', 'category': 'business', 'author': 'Srishty Choudhury', 'published_date': '2022-08-31T11:00:51.000Z'}, {'title': 'IMF to make formal announcement on SL bailout package on Thurs: Report', 'content': \"International Monetary Fund (IMF) is likely to conclude talks with the Sri Lankan government and make a formal announcement on Thursday on the bailout package and staff-level agreement for the cash-strapped country, according to reports. The ongoing talks are regarding a $5 billion bailout package for Sri Lanka. This is IMF delegation's second visit to Sri Lanka in three months.\", 'category': 'business', 'author': 'Ashley Paul', 'published_date': '2022-08-31T14:12:54.000Z'}, {'title': 'Air India retains Captain RS Sandhu as Chief of Operations', 'content': \"Tata-owned Air India announced on Tuesday that Captain RS Sandhu will continue to lead as its Chief of Operations till further notice. In July 2020, the Appointments Committee of the Cabinet cleared his appointment for the role. This makes Sandhu one of the few top management people from Air India's government-owned days to be retained after the Tatas took over.\", 'category': 'business', 'author': 'Srishty Choudhury', 'published_date': '2022-08-31T10:41:48.000Z'}, {'title': \"India's B2B general trade to reach $1.2 trillion by 2030: Redseer\", 'content': \"According to a report by Redseer Strategy Consultants, the general business-to-business (B2B) trade in India will reach $1.2 trillion by 2030, with the driving factor being B2B e-commerce. The unorganised general trade channel that drives India's retail market will double from $0.7 trillion to $1.4 trillion. The B2B e-commerce market will reach $90-100 billion in gross merchandise value. \", 'category': 'business', 'author': 'Anisha Joneja', 'published_date': '2022-08-31T12:26:22.000Z'}, {'title': 'NSDL likely to shortlist 7 investment banks for 2023 IPO: Reports', 'content': \"IDBI Bank and the NSE-backed National Securities Depository Limited (NSDL) is likely to shortlist seven investment banks as advisors in its preparation to launch an initial public offer next year, according to reports. If the listing is successful, NSDL will become the second depository services firm to be listed on Indian bourses after Central Depository Services Limited's debut in 2017.\\n\", 'category': 'business', 'author': 'Srishty Choudhury', 'published_date': '2022-08-31T04:38:03.000Z'}, {'title': 'FPIs turn net buyers of Indian shares in a month 1st time since Sept 2021', 'content': \"In August 2022, the first month of net inflows for Dalal Street since September 2021, foreign portfolio investors (FPIs) emerged as net buyers of Indian equities with net purchases at ₹22,025.8 crore for the month, provisional exchange data showed. Net sales by domestic institutional investors (DIIs) stood at ₹7,068.9 crore. This was first month of DIIs' outflows in 16 months.\", 'category': 'business', 'author': 'Srishty Choudhury', 'published_date': '2022-08-31T11:00:51.000Z'}, {'title': 'Tata Steel to invest in hydrogen-based steel production in Netherlands', 'content': 'Tata Steel has said that it will invest more than €65 million for hydrogen-based steel manufacturing in the Netherlands. The company has signed pacts with three firms - McDermott, Danieli and Hatch for further technical preparations. McDermott will manage construction input, Danieli will oversee engineering design and Hatch will help improve the final steel quality.', 'category': 'business', 'author': 'Purnima Rajput', 'published_date': '2022-08-31T05:20:23.000Z'}, {'title': 'Hardik Pandya achieves his highest-ever spot in rankings for T20I all-rounders', 'content': 'Following his match-winning performance against Pakistan, Team India all-rounder Hardik Pandya jumped eight places in the latest rankings for T20I all-rounders to a career-best fifth position. Pandya took three wickets and scored an unbeaten 33 off 17 deliveries against Pakistan. Pandya is ranked 76th and 79th in T20I rankings for batters and bowlers, respectively.', 'category': 'sports', 'author': 'Anmol Sharma', 'published_date': '2022-08-31T10:22:02.000Z'}, {'title': \"I have no idea, this question is out of my book: Jadeja on why Pant didn't play vs Pak\", 'content': 'During a press conference ahead of India-Hong Kong Asia Cup 2022 match, a journalist asked Ravindra Jadeja why Rishabh Pant wasn\\'t included in India\\'s playing XI for the match against Pakistan. Jadeja responded, \"I have no idea about this. This question is out of my book.\" India will face Hong Kong tonight.', 'category': 'sports', 'author': 'Anmol Sharma', 'published_date': '2022-08-31T09:16:46.000Z'}, {'title': 'India, Pakistan players fined 40% of match fee each for slow over-rate offence', 'content': \"India and Pakistan players have been fined 40% of their match fee each for maintaining a slow over-rate in their Asia Cup 2022 match on Sunday. Match referee Jeff Crowe imposed the sanctions after Rohit Sharma and Babar Azam's sides were ruled to be two overs short of their respective targets after time allowances were taken into consideration.\", 'category': 'sports', 'author': 'Anmol Sharma', 'published_date': '2022-08-31T10:43:15.000Z'}, {'title': 'Rohit Sharma becomes first cricketer to reach 3,500 runs in T20I cricket', 'content': \"Team India captain Rohit Sharma has become the first cricketer to score 3,500 runs in T20I cricket. The 35-year-old reached the milestone during his 13-ball 21-run innings against Hong Kong in Asia Cup 2022. It was Rohit's 126th innings in T20Is. Rohit also holds the record for most hundreds in T20I cricket with four tons.\", 'category': 'sports', 'author': 'Anmol Sharma', 'published_date': '2022-08-31T14:55:51.000Z'}, {'title': 'Tennis player Sara responds to criticism over father, coach patting her backside after win', 'content': 'Czechia\\'s 16-year-old tennis player Sara Bejlek responded to criticism over her father and coach patting her backside after her win in US Open. \"It may...seem inconvenient & uncomfortable to some...but we\\'ve already discussed it...It won\\'t happen again,\" Sara said. She added, \"If something similar happened in...Czechia...no one would deal with it...But since we\\'re in US...everyone comments on it.\"', 'category': 'sports', 'author': 'Anmol Sharma', 'published_date': '2022-08-31T12:26:34.000Z'}, {'title': 'Indian fan receives death threats for wearing Pakistan jersey during India-Pakistan match', 'content': 'Indian fan, who was seen wearing a Pakistan jersey during the Indian-Pakistan Asia Cup 2022 match in Dubai on Sunday, has received death threats, with people terming him a \"traitor\". The man, who hails from Uttar Pradesh, stated that he wore Pakistan jersey to tease Pakistani fans. He added that when he reached the stadium, Indian jerseys were sold out.', 'category': 'sports', 'author': 'Anmol Sharma', 'published_date': '2022-08-31T14:38:00.000Z'}, {'title': 'India announce their playing XI for match against Hong Kong, Hardik Pandya rested', 'content': 'Hong Kong captain Nizakat Khan won the toss and elected to bowl first against India in their Asia Cup 2022 match on Wednesday. India have made one change to their playing XI, with Rishabh Pant replacing Hardik Pandya. India captain Rohit Sharma said at the toss that they are resting Hardik, who was named Player of the Match against Pakistan.', 'category': 'sports', 'author': 'Anmol Sharma', 'published_date': '2022-08-31T13:45:32.000Z'}, {'title': \"Ronaldo's situation reminds me of Beckham: Ex-Netherlands coach Bert\", 'content': 'Ex-Netherlands coach Bert van Marwijk said a player like Cristiano Ronaldo often has a \"suffocating effect\" on a team. \"I look at the situation of Ronaldo [at Manchester United] and it reminds me of what happened with David Beckham,\" added Bert. \"Beckham was the most popular footballer in...Britain, but one day Sir Alex Ferguson just sent him away,\" he stated.', 'category': 'sports', 'author': 'Arnab Mukherji ', 'published_date': '2022-08-31T05:46:50.000Z'}, {'title': 'We thought we had it when Afghanistan needed 60-odd runs in last 6 overs: Shakib', 'content': 'Bangladesh captain Shakib Al Hasan has said they thought they had the game when Afghanistan were 65/3 after 14 overs and needed 63 runs to win in their Asia Cup match on Tuesday. \"[But] credit to Afghanistan...credit to Najibullah Zadran,\" added Shakib. Najibullah smashed 43*(17) to help Afghanistan chase down the target in 18.3 overs and win by seven wickets. ', 'category': 'sports', 'author': 'Ankur Taliyan', 'published_date': '2022-08-31T04:41:41.000Z'}, {'title': \"David Warner shares Lord Ganesha's pic, extends greetings on Ganesh Chaturthi\", 'content': 'Australia opener David Warner has extended greetings on the occasion of Ganesh Chaturthi. Warner took to Twitter to share a photo of him praying to Lord Ganesha and wrote, \"To all of my friends out there, Happy Ganesh Chaturthi. Wishing you lots of joy and happiness!\" Warner is currently part of Australia\\'s three-match ODI series against Zimbabwe. ', 'category': 'sports', 'author': 'Ankur Taliyan', 'published_date': '2022-08-31T10:52:24.000Z'}, {'title': \"I don't think one or two failures will make them drop Rahul: Jaffer\", 'content': 'Ex-cricketer Wasim Jaffer has said India are unlikely to make any changes in their playing XI for their Asia Cup match against Hong Kong. \"I don\\'t think one or two failures will make them drop KL Rahul or make any changes unless there\\'s an injury issue,\" he stated. Rahul was dismissed for a golden duck against Pakistan. ', 'category': 'sports', 'author': 'Ankur Taliyan', 'published_date': '2022-08-31T07:30:52.000Z'}, {'title': \"Serena Williams is a 'bad lady' when she's on the court: Andy Roddick\", 'content': 'Ex-world number one Andy Roddick said 23-time Grand Slam champion Serena Williams is a \"bad lady\" when she is on the court. \"You don\\'t want to mess with her...She\\'s probably been guilty of going to the press room too quickly after losses sometimes,\" added Roddick. Roddick stated that Serena is a joy to be around when not in \"go mode\".', 'category': 'sports', 'author': 'Arnab Mukherji ', 'published_date': '2022-08-31T06:02:40.000Z'}, {'title': \"He never played 'such poor shots' earlier: Sehwag on Kohli's 35 vs Pak\", 'content': 'Discussing Virat Kohli\\'s 35 off 34 balls against Pakistan, Virender Sehwag said, \"He\\'d never get out in a chase of 150. Never...[played] such poor shots.\" \"The batting which we\\'re used to seeing from Kohli...that\\'s yet to be seen,\" added Sehwag. \"We\\'re hoping that by the time [the] T20 World Cup comes around, Kohli returns to the old mindset,\" he stated.', 'category': 'sports', 'author': 'Arnab Mukherji ', 'published_date': '2022-08-31T07:29:40.000Z'}, {'title': \"You're doing grave injustice to him: Aakash on Karthik batting at no. 7\", 'content': 'Commentator Aakash Chopra has said if Team India needs a left-hander at the number four position, then Rishabh Pant should be included in the playing XI. \"Because, at number seven, you are doing a grave injustice to Dinesh Karthik also,\" stated Aakash. India had promoted left-handed all-rounder Ravindra Jadeja to the number four position against Pakistan. ', 'category': 'sports', 'author': 'Ankur Taliyan', 'published_date': '2022-08-31T07:37:42.000Z'}, {'title': \"Plan was to bowl wicket to wicket and it worked: Mujeeb on 3/16 vs B'desh\", 'content': \"Talking about his performance in their Asia Cup match against Bangladesh, Afghanistan spinner Mujeeb Ur Rahman said his plan was to bowl wicket to wicket and it worked. Mujeeb was named 'Man of the Match' after he dismissed Bangladesh's top-three batters while conceding 16 runs in his four overs. Afghanistan chased down Bangladesh's 128-run target in 18.3 overs. \", 'category': 'sports', 'author': 'Ankur Taliyan', 'published_date': '2022-08-31T09:30:05.000Z'}, {'title': \"Afghanistan capable of 'not letting' India make a comeback: Ajay Jadeja\", 'content': 'Ex-India cricketer Ajay Jadeja said he \"won\\'t be surprised\" if Afghanistan \"knock one of the big teams off\", having defeated Sri Lanka and Bangladesh in the Asia Cup so far. \"Imagine either of the teams, India or Pakistan, are 20/2 or 30/2, then Afghanistan won\\'t allow them to make a comeback. These guys have that ability,\" added Ajay.', 'category': 'sports', 'author': 'Arnab Mukherji ', 'published_date': '2022-08-31T10:42:33.000Z'}, {'title': \"Team India can tackle our bowlers, Pak can't: Ex-Afghanistan captain Asghar\", 'content': 'Former Afghanistan captain Asghar Afghan said Afghanistan can beat Pakistan in the Asia Cup if they remain calm. \"The Indian players can play our bowlers well because they have played a lot [against them] in the IPL...They have an idea of our bowlers,\" added Asghar. \"The players of Pakistan...don\\'t know how to tackle our bowlers,\" he stated.', 'category': 'sports', 'author': 'Arnab Mukherji ', 'published_date': '2022-08-31T11:13:03.000Z'}, {'title': 'Kohli will score his 71st century vs Hong Kong: SL spinner Theekshana', 'content': 'Sri Lanka spinner Maheesh Theekshana, during an interview, predicted that Virat Kohli will score his 71st international century against Hong Kong today. Theekshana further said that he wants India and Sri Lanka to feature in the final of the ongoing Asia Cup. \"I want to...get Kohli out. He is an absolutely brilliant player,\" added the 22-year-old. ', 'category': 'sports', 'author': 'Ankur Taliyan', 'published_date': '2022-08-31T11:40:49.000Z'}, {'title': \"With Agastya's arrival, Hardik has become more focused: Nehra\", 'content': 'Ex-India pacer Ashish Nehra has said all-rounder Hardik Pandya has become more focused since the birth of his son Agastya Pandya in 2020. \"Hardik said he has learned different things from different experiences. Now he\\'s married, father of a kid and matured...That is great for him and Indian cricket...[and] he\\'s only 28, he has a lot of time,\" added Nehra. ', 'category': 'sports', 'author': 'Ankur Taliyan', 'published_date': '2022-08-31T05:01:34.000Z'}, {'title': 'Two-time champion Naomi Osaka crashes out of US Open in 1st round', 'content': \"Two-time champion Naomi Osaka has crashed out of the ongoing US Open 2022 after losing in her women's singles first-round match in straight sets against Danielle Collins. Osaka, who had won the US Open in 2018 and 2020, lost with a scoreline of 6-7, 3-6. Former world number one Osaka's ranking has fallen to 44 in the ongoing season. \", 'category': 'sports', 'author': 'Ankur Taliyan', 'published_date': '2022-08-31T05:55:13.000Z'}, {'title': \"India faced a 'lot of difficulty' when they last played Hong Kong: Jaffer\", 'content': 'Ex-Team India opener Wasim Jaffer said Team India faced a \"lot of\" difficulty when they last played against Hong Kong in the Asia Cup in 2018. \"They had a 174-175 run opening partnership...It was a very close match...India won\\'t be complacent at all,\" added Jaffer. Hong Kong captain Nizakat Khan earlier stated \"anything can happen\" when the teams face off.', 'category': 'sports', 'author': 'Arnab Mukherji ', 'published_date': '2022-08-31T08:14:00.000Z'}, {'title': \"I was surprised by Pant's exclusion from playing XI vs Pak: Parthiv\", 'content': 'Ex-India cricketer Parthiv Patel has said that he was surprised by Rishabh Pant\\'s exclusion from India\\'s playing XI against Pakistan in the Asia Cup. \"Everyone is debating over who should play, Rishabh Pant or Dinesh Karthik. But that\\'s a wrong comparison...I feel Kohli should open in place of KL Rahul and Pant should bat in the middle order,\" added Parthiv.', 'category': 'sports', 'author': 'Ankur Taliyan', 'published_date': '2022-08-31T09:10:52.000Z'}, {'title': \"No point in Hardik playing against HK if he isn't going to bowl: Parthiv\", 'content': 'Ex-Team India wicketkeeper-batter Parthiv Patel said there is \"no point\" in Team India all-rounder Hardik Pandya playing against Hong Kong if he is not going to bowl. \"I don\\'t see Hardik bowling against Hong Kong...If he isn\\'t playing, then Deepak Hooda could come in,\" added Parthiv. Hardik picked three wickets while conceding 25 runs in India\\'s win against Pakistan.', 'category': 'sports', 'author': 'Arnab Mukherji ', 'published_date': '2022-08-31T09:50:34.000Z'}, {'title': \"I can't believe his place is under threat: Styris on Manjrekar's remark over Kohli\", 'content': 'During a discussion ahead of India\\'s match against Hong Kong, Sanjay Manjrekar said the competition from youngsters will not make things easy for Virat Kohli in upcoming matches. To this, Scott Styris said, \"I can\\'t believe that.\" The ex-NZ cricketer further said, \"Are we really talking about Kohli not making this team?\" Kohli scored 35(34) against Pakistan on Sunday. ', 'category': 'sports', 'author': 'Ankur Taliyan', 'published_date': '2022-08-31T10:18:36.000Z'}, {'title': \"Pant can get into this side if Rahul doesn't find his form: Saba Karim\", 'content': 'Former India cricketer Saba Karim has said with Dinesh Karthik being preferred for the role of a finisher in T20Is, wicketkeeper-batter Rishabh Pant can only get into the playing XI if KL Rahul doesn\\'t find his form. \"Only then, Pant could get a chance to play [as an opener]. Otherwise, there is no place vacant,\" added Karim.', 'category': 'sports', 'author': 'Ankur Taliyan', 'published_date': '2022-08-31T11:23:16.000Z'}, {'title': '2 top executives at Snap quit hours after report about 20% layoffs emerges', 'content': 'Two senior advertising executives at Snap quit hours after a report emerged stating that the company was planning to cut about 20% of its workforce. Earlier, a report by The Verge, while citing sources, said that Snap is planning to lay off 20% of its more than 6,400 employees after it reported weak Q2 results. ', 'category': 'technology', 'author': 'Ridham Gambhir', 'published_date': '2022-08-31T04:11:41.000Z'}, {'title': 'American man sues Tesla over car suddenly stopping for non-existent obstacles', 'content': 'Jose Alvarez Toledo, a Tesla Model 3 owner from US\\' San Francisco, has sued Tesla in a proposed class action over the car suddenly stopping for non-existent obstacles. He called it a \"frightening and dangerous nightmare\". The lawsuit seeks class action status for all US owners or lessors of a Tesla that suffers from the sudden unintended braking defect.', 'category': 'technology', 'author': 'Anmol Sharma', 'published_date': '2022-08-30T15:23:28.000Z'}, {'title': \"Musk seeks to delay Twitter trial to Nov amid whistleblower's claims\", 'content': \"Tesla CEO Elon Musk is seeking to delay the trial with Twitter until November, as per court filings. The five-day trial is currently scheduled to start on October 17. The court filings came after Musk's legal team sent a fresh letter to Twitter to include whistleblower Peiter Zatko's claims as another reason to end the $44 billion deal.\", 'category': 'technology', 'author': 'Ridham Gambhir', 'published_date': '2022-08-31T03:16:29.000Z'}, {'title': 'Snap to lay off 20% of staff, cancel several projects to cut costs', 'content': 'Snap said on Wednesday it will lay off 20% of its staff and shut down original shows, in-app games and several other projects as part of a corporate restructuring. As per CEO  Evan Spiegel, Snap\\'s current revenue growth rate is \"well below\" what the company was expecting. The cut will help Snap save an estimated $500 million in costs annually. ', 'category': 'technology', 'author': 'Ananya Goyal', 'published_date': '2022-08-31T14:48:01.000Z'}, {'title': \"Facebook's Gaming app to be shut down in October this year\", 'content': \"Facebook’s Gaming app for iOS and Android is shutting down and will no longer be available for download from October 28, 2022. The Meta-owned company didn't specify the reason for shutting down the app. While Facebook Gaming was introduced in 2018, it took the service two years to develop a mobile app. \\n\", 'category': 'technology', 'author': 'Ridham Gambhir', 'published_date': '2022-08-31T08:13:19.000Z'}, {'title': \"Musk cites whistleblower's claims in new notice as reason to end Twitter deal\", 'content': \"Tesla CEO Elon Musk's legal team has filed another notice informing about the termination of his $44 billion deal to buy Twitter, citing additional reasons. The follow-up notice cited allegations made by whistleblower Peiter Zatko as additional reasons to terminate the deal and stated that those allegations were known to Twitter prior to July 8 but weren't disclosed to them. \", 'category': 'technology', 'author': 'Ridham Gambhir', 'published_date': '2022-08-30T12:02:31.000Z'}, {'title': 'Tesla reveals virtual power plant in Japan with over 300 batteries', 'content': \"Tesla has revealed that it has been building a virtual power plant (VPP) on Japan's Miyakojima island since 2021 and now has over 300 Powerwall batteries installed. It's the largest commercial VPP in Japan, the company said in a statement. Installed at homes, these solar-powered batteries can send excess power to the area's electric grid when power supply is strained.\", 'category': 'technology', 'author': 'Mansi Agarwal', 'published_date': '2022-08-30T08:34:49.000Z'}, {'title': 'Aus asks Facebook, Apple to share anti-abuse plan, threatens fine', 'content': 'An Australian regulator sent legal letters to Meta, Apple and Microsoft, asking them for strategies to stamp out child abuse material from their platforms. Firms face a $383,000 fine per day each if they fail to comply. Out of 29.1 million reports of child abuse materials received from internet firms this year, 22 million were from Facebook, a report said.', 'category': 'technology', 'author': 'Purnima Rajput', 'published_date': '2022-08-30T09:40:26.000Z'}, {'title': 'Japan calls for $24 bn investment to boost battery competitiveness', 'content': \"Japan's Ministry of Economy, Trade and Industry said that the country needs an investment worth over $24 billion from the public and private sectors to develop a competitive manufacturing base for batteries used in electric vehicles (EVs). A specialist panel has set a target of securing 30,000 trained workers for battery manufacturing and supply chains by 2030.\\n\", 'category': 'technology', 'author': 'Purnima Rajput', 'published_date': '2022-08-31T10:44:52.000Z'}, {'title': \"Indonesia's GoTo seeks to raise $1 billion via convertible bonds: Report\", 'content': \"Indonesia's largest technology firm GoTo is seeking to raise about $1 billion through a convertible bond issue, Reuters reported. The company, formed last year after the merger of ride hailing firm Gojek and e-commerce leader Tokopedia, is reportedly working with three financial advisors for the offering. The offer is expected to be launched in the fourth quarter.\", 'category': 'technology', 'author': 'Ashley Paul', 'published_date': '2022-08-30T13:12:02.000Z'}, {'title': \"Truth Social app hasn't been approved on Google Play Store yet: Report\", 'content': 'Ex-US President Donald Trump\\'s Truth Social app hasn\\'t yet been approved for distribution on Google Play Store due to insufficient content moderation, according to reports. Google\\'s concerns reportedly relate to content such as physical threats and incitements to violence. \"On August 19, we notified Truth Social of several standard policy violations in their current app submission,\" Google said.', 'category': 'technology', 'author': 'Ashley Paul', 'published_date': '2022-08-30T15:08:39.000Z'}, {'title': \"Most of crypto still junk: JP Morgan's digital assets division head\", 'content': 'JP Morgan\\'s digital assets division head Umar Farooq said majority of crypto assets are \"junk\" and actual crypto use cases haven\\'t fully materialised. Regulation hasn\\'t kept up with the expanding industry, thereby discouraging many conventional financial institutions from participating, he said. Industry hasn\\'t developed sufficiently to be used to support high-value serious transactions, he added.', 'category': 'technology', 'author': 'Ashley Paul', 'published_date': '2022-08-30T15:10:39.000Z'}, {'title': 'Nazara Technologies acquires US-based WildWorks for $10.4 million', 'content': \"Mobile gaming and sports media platform Nazara Technologies Limited on Tuesday announced that it will acquire a 100% stake WildWorks, a US-based children’s interactive entertainment company for $10.4 million in an all-cash transaction. Nazara's shares surged nearly 2.6% to touch an intraday high of ₹647.35 and were trading 1.8% higher on the BSE at 11.25 am.\", 'category': 'technology', 'author': 'Srishty Choudhury', 'published_date': '2022-08-30T07:39:07.000Z'}, {'title': '45 data centres with 1,015 MW IT capacity to come up by 2025-end: Report', 'content': 'Over 45 data centres spanning nearly 13 million square feet and with 1,015 MW of IT capacity are planned to come up in India by 2025-end, according to an ANAROCK-Binswanger report. In terms of IT capacity, over 69% of planned supply will come up in Mumbai and Chennai. COVID-19 outbreak has propelled data centre business forward, an ANAROCK official said.', 'category': 'technology', 'author': 'Ashley Paul', 'published_date': '2022-08-30T09:43:38.000Z'}, {'title': 'Google to award up to $31,337 in new open source bug bounty program', 'content': 'Google has launched a new Vulnerability Rewards Program (VRP) to reward researchers for finding bugs in its open source projects. The rewards will range from $100 to $31,337, with larger amounts to be given for finding bugs in most sensitive projects like Angular and Golang. Google said it has given over $38 million through its existing VRP programs so far.', 'category': 'technology', 'author': 'Mansi Agarwal', 'published_date': '2022-08-31T08:16:43.000Z'}, {'title': '45-50 million EVs to be on Indian roads by 2030: KPMG', 'content': 'The total number of electric vehicles (EV) on Indian roads is likely to reach 45 to 50 million by 2030, according to a report by consultancy firm KPMG. As per the Ministry of Road Transport and Highways, there are currently 13,92,265 EVs plying on Indian roads and EV sales in India have seen a three-time growth over the past year.', 'category': 'technology', 'author': 'Purnima Rajput', 'published_date': '2022-08-31T08:58:31.000Z'}, {'title': 'Google to give ₹25 lakh reward for spotting bugs under new programme', 'content': 'Google has launched a new Vulnerability Reward Program under which it\\'ll award up to $31,337 (nearly ₹25 lakh) to researchers who spot vulnerabilities in Alphabet and Google\\'s Open Source projects. The rewards will range from $100 to $31,337. The larger amounts will go to unusual or particularly interesting vulnerabilities, \"so creativity is encouraged\", Google said while launching the programme.', 'category': 'technology', 'author': 'Ashley Paul', 'published_date': '2022-08-31T14:40:55.000Z'}, {'title': \"Microsoft's cloud computing changes criticised by Amazon, Google\", 'content': \"Microsoft's cloud computing changes faced criticisms from Amazon and Google on Tuesday with both saying that the changes discourage customers from switching to rival cloud service providers thereby limiting competition. After cloud service providers complained to the EU antitrust regulators against Microsoft, it announced amended licensing deals and changes that will be brought in on October 1.\\n\", 'category': 'technology', 'author': 'Srishty Choudhury', 'published_date': '2022-08-31T05:25:47.000Z'}, {'title': 'Cybercrime cases in 2021 rose by 5%, fraud most common motive: NCRB', 'content': \"Cybercrime cases reported in India in 2021 rose by 5% compared with 2020 and fraud was the most common cybercrime motive, according to National Crime Records Bureau's latest data. While charge sheets were filed in only one-third of such cases, the states of Assam, Karnataka, Telangana and UP reported over 70% of cybercrimes. India reported 52,974 cybercrime cases in 2021.\", 'category': 'technology', 'author': 'Ashley Paul', 'published_date': '2022-08-31T11:44:36.000Z'}, {'title': 'Update Mozilla Firefox browser to avoid various vulnerabilities: CERT-In to users', 'content': 'Indian Computer Emergency Response Team (CERT-In) has advised users to immediately update Mozilla Firefox browsers to avoid various vulnerabilities. The bugs in the browser could allow a remote attacker to bypass security restrictions, execute arbitrary code and cause denial of service attack on the targeted system, CERT-In said. Vulnerabilities exist due to abuse of XSLT error handling, it added.', 'category': 'technology', 'author': 'Ashley Paul', 'published_date': '2022-08-31T11:48:56.000Z'}, {'title': \"Snapchat releases 'Dual Camera' recording tool for iOS users\", 'content': \"Snapchat has released a 'Dual Camera' feature which will allow users to capture photos and videos using their phone's front-facing and rear cameras simultaneously. The feature will be available for iOS users on iPhone XS/XR or above, with Android compatibility rolling out later. Users will get to align their two images horizontally or vertically or use a picture-in-picture mode.    \", 'category': 'technology', 'author': 'Aishwarya Awasthi', 'published_date': '2022-08-30T05:13:26.000Z'}, {'title': \"LinkedIn's chat, job posting tools being used to steal users' data: Report\", 'content': 'LinkedIn is being used by hackers to spread data-stealing malware by sending connection requests in disguise of people working with reputed firms, a CloudSEK report said. Hackers share malicious files and links which deploy a stealer malware for stealing passwords and other sensitive data. \"This large-scale misuse of LinkedIn could be the gravest threat yet,\" CloundSEK CEO Rahul Sasi said.', 'category': 'technology', 'author': 'Ashley Paul', 'published_date': '2022-08-30T13:29:08.000Z'}, {'title': 'Infosys divests entire stake in US-based Trifacta for $12 million', 'content': \"Infosys said that it has divested its stake in Trifacta Inc, a data preparation software company, for $12 million. Infosys had invested $4 million in the San Francisco-based company in 2016. It had a minority holding not exceeding 20% of Trifacta's outstanding share capital. Trifacta was founded in 2012 and its investors include Accel, Greylock Partners, Ignition and Cathay Innovation.\\n\", 'category': 'technology', 'author': 'Srishty Choudhury', 'published_date': '2022-08-31T08:49:44.000Z'}, {'title': 'SoftBank Corporate Officer Rajeev Misra steps down amid record loss', 'content': \"SoftBank Group's Corporate Officer and Executive Vice President Rajeev Misra is stepping down from his roles, the Japanese conglomerate said on Wednesday. This development follows a record loss at the Japanese investment group after a slide in technology stocks. Misra will retain his position as head of SoftBank Investment Advisers, which oversees the first Vision Fund's existing investments.\\n\", 'category': 'technology', 'author': 'Srishty Choudhury', 'published_date': '2022-08-31T11:34:00.000Z'}, {'title': 'Netflix hires 2 top advertising executives from Snapchat-parent Snap Inc', 'content': \"Netflix on Tuesday announced that it has hired two top executives from Snap Inc. The firm's Chief Business Officer Jeremi Gorman has been hired as Netflix's head of worldwide advertising while Snap Inc's VP of advertising sales Peter Naylor has been hired for the same role. The hiring signals Netflix's commitment to building an ad-supported version of its streaming service.\", 'category': 'technology', 'author': 'Ashley Paul', 'published_date': '2022-08-31T10:43:16.000Z'}, {'title': 'Shah Rukh Khan celebrates Ganesh Chaturthi, shares pic of Lord Ganesha idol at home', 'content': 'Actor Shah Rukh Khan took to social media to share a picture of Lord Ganesha\\'s idol on the occasion of Ganesh Chaturthi. \"Ganpatiji welcomed home by lil one and me...the modaks after were delicious...the learning is, through hard work, perseverance & faith in God, you can live your dreams. Happy Ganesh Chaturthi to all,\" he wrote. ', 'category': 'entertainment', 'author': 'Daisy Mowke', 'published_date': '2022-08-31T14:36:29.000Z'}, {'title': 'Jacqueline Fernandez summoned by Delhi court in ₹200 crore extortion case', 'content': \"Delhi's Patiala House Court has summoned actress Jacqueline Fernandez, directing her to appear in court on September 26, in connection with a ₹200 crore extortion case involving conman Sukesh Chandrasekhar. A lawyer appearing for Delhi Police's Economic Offences Wing informed the court that Fernandez has been also summoned by Delhi Police on September 12 to join the probe.\", 'category': 'entertainment', 'author': 'Apaar Sharma', 'published_date': '2022-08-31T10:20:29.000Z'}, {'title': \"I cheated in relationships, that's the biggest regret right now I feel: Munawar Faruqui\", 'content': 'Comedian Munawar Faruqui has confessed to being unfaithful in his relationships in an interview to Siddharth Kannan, saying, \"I cheated in relationship...I f**ed around. That\\'s the biggest regret right now I feel.\" Faruqui had earlier revealed that he is a married man and has a child but has been living separately from his wife and the matter is in court. ', 'category': 'entertainment', 'author': 'Apaar Sharma', 'published_date': '2022-08-31T06:46:44.000Z'}, {'title': 'Aamir Khan to not charge fee for Laal Singh Chaddha as film to lose ₹100 crore: Report', 'content': \"Aamir Khan's 'Laal Singh Chaddha' has not been able to collect ₹60 crore at the domestic box office and the actor has decided to absorb the losses by forgoing his fee, reports said. The producers Viacom18 lost ₹100 crore on the film but if Aamir decides to let go of his fee, the losses will be comparatively lesser, reports added.\", 'category': 'entertainment', 'author': 'Apaar Sharma', 'published_date': '2022-08-31T11:08:02.000Z'}, {'title': \"Kartik gets 1st darshan at Lalbaugcha Raja, thanks him for 'life-changing year'\", 'content': 'Kartik Aaryan, who visited Lalbaugcha Raja on Ganesh Chaturthi, shared pictures of himself on social media platforms and thanked Lord Ganesh for making 2022 \"a life-changing year\". \"Blessed to get my first darshan,\" he wrote. Kartik, whose \\'Bhool Bhulaiyaa 2\\' performed well at the box office, also hoped that Lord Ganesh continues to bless him and fulfil his wishes. ', 'category': 'entertainment', 'author': 'Kameshwari', 'published_date': '2022-08-31T13:34:32.000Z'}, {'title': 'I am single, looking around: Tiger following breakup rumours with Disha', 'content': 'Following rumours of his breakup with actress Disha Patani, actor Tiger Shroff said, \"I am single...and I am currently looking around.\" Tiger further named actress Shraddha Kapoor as the actress he would like to \"manifest a relationship with\". \"I\\'ve always been infatuated with Shraddha...She\\'s great,\" he added. \"I used to have a huge crush on Shraddha,\" Tiger had earlier said.', 'category': 'entertainment', 'author': 'Arnab Mukherji ', 'published_date': '2022-08-31T06:49:22.000Z'}, {'title': \"Mike Tyson was paid around ₹25 crore for 'Liger': Reports\", 'content': \"Boxing legend Mike Tyson was reportedly paid around ₹25 crore to star in Vijay Deverakonda's 'Liger'. As per reports, Karan Johar, who co-produced the Hindi version of the film, was not willing to cast Mike in 'Liger'. However, director Puri Jagannadh was reportedly fixated on casting the former boxer, irrespective of the cost. 'Liger' released on August 25.\", 'category': 'entertainment', 'author': 'Kameshwari', 'published_date': '2022-08-31T15:01:27.000Z'}, {'title': 'There are no single men: Kriti on not having actor as date at Filmfare Awards', 'content': 'Actress Kriti Sanon, during her red carpet appearance at the Filmfare Awards, was asked to name an actor with whom she would have liked to walk the red carpet as her date. Replying to this, she said, \"I wish I had one, he\\'d have been here...honestly speaking...There are no single men.\" Kriti was named Best Actress at the Filmfare Awards.', 'category': 'entertainment', 'author': 'Amartya Sharma', 'published_date': '2022-08-31T06:22:55.000Z'}, {'title': 'Mention my small name along with big ones: Swastika Mukherjee to critic', 'content': 'Actress Swastika Mukherjee has reacted after a critic did not include her name while tweeting about her film \\'Qala\\'. Taking to Twitter, Swastika wrote, \"\\'Qala\\' belongs to me as well, I don\\'t hail from Mumbai but have been working for 22 years now, it would be great if you mention my small name along with the BIG ONES.\"', 'category': 'entertainment', 'author': 'Amartya Sharma', 'published_date': '2022-08-31T07:17:56.000Z'}, {'title': 'We have been inviting Bappa for almost 60 years now: Shraddha Kapoor', 'content': 'Actress Shraddha Kapoor, speaking on the occasion of Ganesh Chaturthi, has said that the whole energy that comes with the festival is \"amazing\". \"We\\'ve been inviting Bappa for almost 60 years now...The one thing I love the most about this festival is that I get to catch up with all my relatives during this time,\" she added.', 'category': 'entertainment', 'author': 'Amartya Sharma', 'published_date': '2022-08-31T10:22:07.000Z'}, {'title': \"Mom didn't let me do 'Lust...' as focus was only on sensual scenes: Kriti\", 'content': 'Actress Kriti Sanon said her mother asked her to reject a role in filmmaker Karan Johar\\'s short film in \\'Lust Stories\\', which Kiara Advani played eventually, as the script\\'s \"focus was only on sensual scenes\". \"My family is middle-class and for them [such] controversial themes...can be...shocking,\" added Kriti. Kiara earlier said she accepted the role \"only\" to work with Johar.', 'category': 'entertainment', 'author': 'Arnab Mukherji ', 'published_date': '2022-08-31T11:08:45.000Z'}, {'title': \"'Brahmastra' to decide budget of 'The Immortal Ashwatthama': Reports\", 'content': \"'The Immortal Ashwatthama' producer Ronnie Screwvala is reportedly waiting to see how Ranbir Kapoor's 'Brahmastra' performs at the box-office. If 'Brahmastra' earns ₹150-200 crore, it will give 'The Immortal Ashwatthama' team the confidence to spend ₹300 crore on its making, a source told Mid-day. Just like 'Brahmastra', Vicky Kaushal's film is also based on Indian mythology and superpowers. \", 'category': 'entertainment', 'author': 'Kameshwari', 'published_date': '2022-08-31T11:53:28.000Z'}, {'title': \"Judge 'The Kashmir...' according to its cinematic merit: Pallavi on Oscar bid\", 'content': '\\'The Kashmir Files\\' actress Pallavi Joshi has responded to the opposition to her film\\'s Oscar bid. \"An award is about cinematic merit...Judge the film accordingly. But do so only on its cinematic merit,\" she stated. This comes after Anurag Kashyap and Dylan Mohan Gray had openly opposed the film being in contention to be sent to the Oscars.', 'category': 'entertainment', 'author': 'Amartya Sharma', 'published_date': '2022-08-31T07:46:36.000Z'}, {'title': 'Kartik Aaryan visits Lalbaugcha Raja on Ganesh Chaturthi, pics surface', 'content': \"Actor Kartik Aaryan visited Lalbaugcha Raja on the occasion of Ganesh Chaturthi along with his parents. Kartik's sister Kritika Tiwari was also seen with the actor. Several pictures of Kartik's visit to Lalbaugcha Raja have surfaced on social media. The actor, who recently featured in 'Bhool Bhulaiyaa 2', will next feature in 'Shehzada'.\", 'category': 'entertainment', 'author': 'Amartya Sharma', 'published_date': '2022-08-31T07:31:13.000Z'}, {'title': \"Kunal Kemmu announces directorial debut with 'Madgaon Express'\", 'content': \"Kunal Kemmu on Wednesday announced his directorial debut, titled 'Madgaon Express', which is also written by him. He said the journey of becoming a director started with a thought, which turned into a dream and then turned into words on his laptop, and now, it's becoming a reality. He thanked Ritesh Sidhwani and Farhan Akhtar for believing in his vision.\", 'category': 'entertainment', 'author': 'Kameshwari', 'published_date': '2022-08-31T11:33:03.000Z'}, {'title': 'Dharmendra had tears after knowing I was turned away from his home: Gippy', 'content': 'Punjabi actor-singer Gippy Grewal said Dharmendra got \"emotional\" and had \"tears\" after Gippy shared that he was turned away from the actor\\'s home while visiting for the first time. \"He said, \\'Why did you tell...? I won\\'t be able to sleep\\',\" added Gippy. Gippy further stated that he annoyed actor Govinda \"a lot\" while visiting Mumbai for the first time.', 'category': 'entertainment', 'author': 'Arnab Mukherji ', 'published_date': '2022-08-31T10:49:06.000Z'}, {'title': \"I have lost 65% of my investment, it's a sabotage: 'Liger' distributor\", 'content': 'Discussing the failure of Vijay Deverakonda-starrer \\'Liger\\', Warangal Srinu, who was the film\\'s distributor in the South, said, \"I\\'ve lost...65% of my investment.\" \"Sabotage is the word,\" he added. \"Do we realise that in our quest to ban actors...we\\'re ruining poor families...The movie industry is going through a very bad phase...There\\'s...a concerted campaign...almost everyday,\" stated Srinu.', 'category': 'entertainment', 'author': 'Arnab Mukherji ', 'published_date': '2022-08-31T11:15:51.000Z'}, {'title': \"Mouni Roy confirms Shah Rukh Khan's guest appearance in 'Brahmastra'\", 'content': 'Actress Mouni Roy has confirmed that Shah Rukh Khan will be seen in a guest appearance in \\'Brahmastra\\'. The actress said that even she was supposed to have a special appearance in \\'Brahmastra\\', but her role \"became lengthier\" and soon, she was the main villain in the film. She said it\\'s \"one of the most challenging roles\" of her career. ', 'category': 'entertainment', 'author': 'Kameshwari', 'published_date': '2022-08-31T11:27:38.000Z'}, {'title': \"Tiger Shroff asked to slash his fees post 'Heropanti 2' debacle: Reports\", 'content': \"Tiger Shroff reportedly signed 'Ganapath', 'Bade Miyan Chote Miyan' and 'Screw Dheela' for ₹35 crore, ₹45 crore and ₹35 crore, respectively. As per reports, after 'Heropanti 2' failed at the box office, the producers have asked Tiger to reduce his remuneration by 50%. Reportedly, Akshay Kumar has also cut down his fee for 'Bade Miyan Chote Miyan'. \", 'category': 'entertainment', 'author': 'Kameshwari', 'published_date': '2022-08-31T12:29:06.000Z'}, {'title': \"Response to 'Delhi Crime 2' is enormous: Actress Shefali Shah\", 'content': 'Actress Shefali Shah, speaking about the recently released new season of her OTT series \\'Delhi Crime\\', has said, \"The kind of response I have been receiving...is enormous.\" She further added that her character in the series is \"very dear and personal\" to her. \"I\\'m overwhelmed and grateful to know it has touched everyone as deeply,\" she stated.', 'category': 'entertainment', 'author': 'Amartya Sharma', 'published_date': '2022-08-31T09:12:18.000Z'}, {'title': \"Ty Burrell was meant to officiate Sarah Hyland's wedding: Jesse Tyler\", 'content': 'Actor Jesse Tyler Ferguson has revealed that he was not the first choice to be the wedding officiant for his \\'Modern Family\\' co-star Sarah Hyland. \"I don\\'t know if people know this, but Ty Burrell was meant to do it and there was a family emergency,\" he stated. Ty played Sarah\\'s father in the show \\'Modern Family\\'.', 'category': 'entertainment', 'author': 'Amartya Sharma', 'published_date': '2022-08-31T10:00:19.000Z'}, {'title': 'Have to see if I should keep Gaiety and Galaxy shut till Sep 9: Manoj', 'content': 'The executive director of G7 Multiplex and Maratha Mandir Cinema, Manoj Desai, opened up after one theatre has been shut down temporarily after recent films failed to attract people. \"There\\'s no film. Even next week, there\\'s no film. I\\'ll have to see...whether I should keep both Gaiety...Galaxy shut till September 9,\" he stated. \\'Brahmastra\\' will release on September 9.', 'category': 'entertainment', 'author': 'Amartya Sharma', 'published_date': '2022-08-31T10:33:23.000Z'}, {'title': 'Wife, I did 3 jobs in Canada to fund music career; cleaned food courts: Gippy', 'content': 'Actor-singer Gippy Grewal revealed he and his wife did three jobs in Canada to fund his music career. \"I\\'d drop off newspapers in the morning...I\\'d work...at this factory where we would create bricks of marble-like material...Then at night, I...my wife would do cleaning jobs [like] mopping...clearing plates at food courts,\" he added. \"My wife...made sandwiches at Subway,\" Gippy stated.', 'category': 'entertainment', 'author': 'Amartya Sharma', 'published_date': '2022-08-31T06:05:14.000Z'}, {'title': 'Ramya launches her own production house, announces comeback to films', 'content': 'Actress-politician Ramya on Wednesday announced her return to films and that she will also be producing cinema under her production house, AppleBox Studios. The Kannada actress shared that she is \"producing two theatrical films\", which will be distributed by KRG Studios. \"I am very excited about these projects,\" she said, adding that AppleBox Studios will also be producing OTT content.', 'category': 'entertainment', 'author': 'Kameshwari', 'published_date': '2022-08-31T12:47:16.000Z'}, {'title': \"Allu Arjun's 'Pushpa: The Rise' screened at Moscow Film Festival\", 'content': 'Allu Arjun\\'s \\'Pushpa: The Rise\\' was recently screened at the Moscow International Film Festival under the \\'Blockbuster hits around the world\\' category. The Embassy of India in Moscow shared the news on its Instagram account. It said the film created a \"sensation all over the world and stood as the highest grosser in India for the year 2021\". ', 'category': 'entertainment', 'author': 'Kameshwari', 'published_date': '2022-08-31T14:00:30.000Z'}]\n"
     ]
    },
    {
     "data": {
      "text/html": [
       "<div>\n",
       "<style scoped>\n",
       "    .dataframe tbody tr th:only-of-type {\n",
       "        vertical-align: middle;\n",
       "    }\n",
       "\n",
       "    .dataframe tbody tr th {\n",
       "        vertical-align: top;\n",
       "    }\n",
       "\n",
       "    .dataframe thead th {\n",
       "        text-align: right;\n",
       "    }\n",
       "</style>\n",
       "<table border=\"1\" class=\"dataframe\">\n",
       "  <thead>\n",
       "    <tr style=\"text-align: right;\">\n",
       "      <th></th>\n",
       "      <th>title</th>\n",
       "      <th>content</th>\n",
       "      <th>category</th>\n",
       "      <th>author</th>\n",
       "      <th>published_date</th>\n",
       "    </tr>\n",
       "  </thead>\n",
       "  <tbody>\n",
       "    <tr>\n",
       "      <th>0</th>\n",
       "      <td>India's GDP grows at 13.5% in first quarter of...</td>\n",
       "      <td>India's GDP grew at 13.5% in the first quarter...</td>\n",
       "      <td>business</td>\n",
       "      <td>Anmol Sharma</td>\n",
       "      <td>2022-08-31T12:24:39.000Z</td>\n",
       "    </tr>\n",
       "    <tr>\n",
       "      <th>1</th>\n",
       "      <td>2 top executives at Snap quit hours after repo...</td>\n",
       "      <td>Two senior advertising executives at Snap quit...</td>\n",
       "      <td>business</td>\n",
       "      <td>Ridham Gambhir</td>\n",
       "      <td>2022-08-31T04:11:41.000Z</td>\n",
       "    </tr>\n",
       "    <tr>\n",
       "      <th>2</th>\n",
       "      <td>Musk seeks to delay Twitter trial to Nov amid ...</td>\n",
       "      <td>Tesla CEO Elon Musk is seeking to delay the tr...</td>\n",
       "      <td>business</td>\n",
       "      <td>Ridham Gambhir</td>\n",
       "      <td>2022-08-31T03:16:29.000Z</td>\n",
       "    </tr>\n",
       "    <tr>\n",
       "      <th>3</th>\n",
       "      <td>Snap to lay off 20% of staff, cancel several p...</td>\n",
       "      <td>Snap said on Wednesday it will lay off 20% of ...</td>\n",
       "      <td>business</td>\n",
       "      <td>Ananya Goyal</td>\n",
       "      <td>2022-08-31T14:48:01.000Z</td>\n",
       "    </tr>\n",
       "    <tr>\n",
       "      <th>4</th>\n",
       "      <td>Viral video shows Amazon parcels thrown out of...</td>\n",
       "      <td>A video from Guwahati railway station has gone...</td>\n",
       "      <td>business</td>\n",
       "      <td>Apaar Sharma</td>\n",
       "      <td>2022-08-31T08:21:25.000Z</td>\n",
       "    </tr>\n",
       "    <tr>\n",
       "      <th>...</th>\n",
       "      <td>...</td>\n",
       "      <td>...</td>\n",
       "      <td>...</td>\n",
       "      <td>...</td>\n",
       "      <td>...</td>\n",
       "    </tr>\n",
       "    <tr>\n",
       "      <th>95</th>\n",
       "      <td>Ty Burrell was meant to officiate Sarah Hyland...</td>\n",
       "      <td>Actor Jesse Tyler Ferguson has revealed that h...</td>\n",
       "      <td>entertainment</td>\n",
       "      <td>Amartya Sharma</td>\n",
       "      <td>2022-08-31T10:00:19.000Z</td>\n",
       "    </tr>\n",
       "    <tr>\n",
       "      <th>96</th>\n",
       "      <td>Have to see if I should keep Gaiety and Galaxy...</td>\n",
       "      <td>The executive director of G7 Multiplex and Mar...</td>\n",
       "      <td>entertainment</td>\n",
       "      <td>Amartya Sharma</td>\n",
       "      <td>2022-08-31T10:33:23.000Z</td>\n",
       "    </tr>\n",
       "    <tr>\n",
       "      <th>97</th>\n",
       "      <td>Wife, I did 3 jobs in Canada to fund music car...</td>\n",
       "      <td>Actor-singer Gippy Grewal revealed he and his ...</td>\n",
       "      <td>entertainment</td>\n",
       "      <td>Amartya Sharma</td>\n",
       "      <td>2022-08-31T06:05:14.000Z</td>\n",
       "    </tr>\n",
       "    <tr>\n",
       "      <th>98</th>\n",
       "      <td>Ramya launches her own production house, annou...</td>\n",
       "      <td>Actress-politician Ramya on Wednesday announce...</td>\n",
       "      <td>entertainment</td>\n",
       "      <td>Kameshwari</td>\n",
       "      <td>2022-08-31T12:47:16.000Z</td>\n",
       "    </tr>\n",
       "    <tr>\n",
       "      <th>99</th>\n",
       "      <td>Allu Arjun's 'Pushpa: The Rise' screened at Mo...</td>\n",
       "      <td>Allu Arjun's 'Pushpa: The Rise' was recently s...</td>\n",
       "      <td>entertainment</td>\n",
       "      <td>Kameshwari</td>\n",
       "      <td>2022-08-31T14:00:30.000Z</td>\n",
       "    </tr>\n",
       "  </tbody>\n",
       "</table>\n",
       "<p>100 rows × 5 columns</p>\n",
       "</div>"
      ],
      "text/plain": [
       "                                                title  \\\n",
       "0   India's GDP grows at 13.5% in first quarter of...   \n",
       "1   2 top executives at Snap quit hours after repo...   \n",
       "2   Musk seeks to delay Twitter trial to Nov amid ...   \n",
       "3   Snap to lay off 20% of staff, cancel several p...   \n",
       "4   Viral video shows Amazon parcels thrown out of...   \n",
       "..                                                ...   \n",
       "95  Ty Burrell was meant to officiate Sarah Hyland...   \n",
       "96  Have to see if I should keep Gaiety and Galaxy...   \n",
       "97  Wife, I did 3 jobs in Canada to fund music car...   \n",
       "98  Ramya launches her own production house, annou...   \n",
       "99  Allu Arjun's 'Pushpa: The Rise' screened at Mo...   \n",
       "\n",
       "                                              content       category  \\\n",
       "0   India's GDP grew at 13.5% in the first quarter...       business   \n",
       "1   Two senior advertising executives at Snap quit...       business   \n",
       "2   Tesla CEO Elon Musk is seeking to delay the tr...       business   \n",
       "3   Snap said on Wednesday it will lay off 20% of ...       business   \n",
       "4   A video from Guwahati railway station has gone...       business   \n",
       "..                                                ...            ...   \n",
       "95  Actor Jesse Tyler Ferguson has revealed that h...  entertainment   \n",
       "96  The executive director of G7 Multiplex and Mar...  entertainment   \n",
       "97  Actor-singer Gippy Grewal revealed he and his ...  entertainment   \n",
       "98  Actress-politician Ramya on Wednesday announce...  entertainment   \n",
       "99  Allu Arjun's 'Pushpa: The Rise' was recently s...  entertainment   \n",
       "\n",
       "            author            published_date  \n",
       "0     Anmol Sharma  2022-08-31T12:24:39.000Z  \n",
       "1   Ridham Gambhir  2022-08-31T04:11:41.000Z  \n",
       "2   Ridham Gambhir  2022-08-31T03:16:29.000Z  \n",
       "3     Ananya Goyal  2022-08-31T14:48:01.000Z  \n",
       "4     Apaar Sharma  2022-08-31T08:21:25.000Z  \n",
       "..             ...                       ...  \n",
       "95  Amartya Sharma  2022-08-31T10:00:19.000Z  \n",
       "96  Amartya Sharma  2022-08-31T10:33:23.000Z  \n",
       "97  Amartya Sharma  2022-08-31T06:05:14.000Z  \n",
       "98      Kameshwari  2022-08-31T12:47:16.000Z  \n",
       "99      Kameshwari  2022-08-31T14:00:30.000Z  \n",
       "\n",
       "[100 rows x 5 columns]"
      ]
     },
     "execution_count": 17,
     "metadata": {},
     "output_type": "execute_result"
    }
   ],
   "source": [
    "make_new_article_request()"
   ]
  },
  {
   "cell_type": "code",
   "execution_count": null,
   "id": "27a9e649",
   "metadata": {},
   "outputs": [],
   "source": []
  }
 ],
 "metadata": {
  "kernelspec": {
   "display_name": "Python 3 (ipykernel)",
   "language": "python",
   "name": "python3"
  },
  "language_info": {
   "codemirror_mode": {
    "name": "ipython",
    "version": 3
   },
   "file_extension": ".py",
   "mimetype": "text/x-python",
   "name": "python",
   "nbconvert_exporter": "python",
   "pygments_lexer": "ipython3",
   "version": "3.9.12"
  }
 },
 "nbformat": 4,
 "nbformat_minor": 5
}
