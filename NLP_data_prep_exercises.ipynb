{
 "cells": [
  {
   "cell_type": "code",
   "execution_count": 2,
   "id": "e2a59215",
   "metadata": {},
   "outputs": [],
   "source": [
    "import re\n",
    "import unicodedata\n",
    "import nltk\n",
    "from nltk.stem import WordNetLemmatizer\n",
    "from nltk.tokenize.toktok import ToktokTokenizer\n",
    "from nltk.corpus import stopwords\n",
    "import pandas as pd\n",
    "\n",
    "import nlp_acquire"
   ]
  },
  {
   "cell_type": "code",
   "execution_count": 3,
   "id": "7595d08e",
   "metadata": {},
   "outputs": [
    {
     "name": "stdout",
     "output_type": "stream",
     "text": [
      "Found File\n",
      "Found File\n"
     ]
    }
   ],
   "source": [
    "scrape_codeup_content = nlp_acquire.read_url_or_file_codeup()\n",
    "scrape_inshort_content = nlp_acquire.read_url_or_file_inshort()"
   ]
  },
  {
   "cell_type": "code",
   "execution_count": 4,
   "id": "fdb02903",
   "metadata": {},
   "outputs": [
    {
     "data": {
      "text/html": [
       "<div>\n",
       "<style scoped>\n",
       "    .dataframe tbody tr th:only-of-type {\n",
       "        vertical-align: middle;\n",
       "    }\n",
       "\n",
       "    .dataframe tbody tr th {\n",
       "        vertical-align: top;\n",
       "    }\n",
       "\n",
       "    .dataframe thead th {\n",
       "        text-align: right;\n",
       "    }\n",
       "</style>\n",
       "<table border=\"1\" class=\"dataframe\">\n",
       "  <thead>\n",
       "    <tr style=\"text-align: right;\">\n",
       "      <th></th>\n",
       "      <th>title</th>\n",
       "      <th>content</th>\n",
       "    </tr>\n",
       "  </thead>\n",
       "  <tbody>\n",
       "    <tr>\n",
       "      <th>0</th>\n",
       "      <td>Is a Career in Tech Recession-Proof?</td>\n",
       "      <td>Given the current economic climate, many econo...</td>\n",
       "    </tr>\n",
       "    <tr>\n",
       "      <th>1</th>\n",
       "      <td>Codeup X Superhero Car Show &amp; Comic Con</td>\n",
       "      <td>Codeup had a blast at the San Antonio Superher...</td>\n",
       "    </tr>\n",
       "    <tr>\n",
       "      <th>2</th>\n",
       "      <td>What Jobs Can You Get After a Coding Bootcamp?...</td>\n",
       "      <td>If you’re considering a career in web developm...</td>\n",
       "    </tr>\n",
       "    <tr>\n",
       "      <th>3</th>\n",
       "      <td>Codeup’s New Dallas Campus</td>\n",
       "      <td>Codeup’s Dallas campus has a new location! For...</td>\n",
       "    </tr>\n",
       "    <tr>\n",
       "      <th>4</th>\n",
       "      <td>Codeup TV Commercial</td>\n",
       "      <td>Codeup has officially made its TV debut! Our c...</td>\n",
       "    </tr>\n",
       "    <tr>\n",
       "      <th>5</th>\n",
       "      <td>What Jobs Can You Get After a Coding Bootcamp?...</td>\n",
       "      <td>Have you been considering a career in Cloud Ad...</td>\n",
       "    </tr>\n",
       "  </tbody>\n",
       "</table>\n",
       "</div>"
      ],
      "text/plain": [
       "                                               title  \\\n",
       "0               Is a Career in Tech Recession-Proof?   \n",
       "1            Codeup X Superhero Car Show & Comic Con   \n",
       "2  What Jobs Can You Get After a Coding Bootcamp?...   \n",
       "3                         Codeup’s New Dallas Campus   \n",
       "4                               Codeup TV Commercial   \n",
       "5  What Jobs Can You Get After a Coding Bootcamp?...   \n",
       "\n",
       "                                             content  \n",
       "0  Given the current economic climate, many econo...  \n",
       "1  Codeup had a blast at the San Antonio Superher...  \n",
       "2  If you’re considering a career in web developm...  \n",
       "3  Codeup’s Dallas campus has a new location! For...  \n",
       "4  Codeup has officially made its TV debut! Our c...  \n",
       "5  Have you been considering a career in Cloud Ad...  "
      ]
     },
     "execution_count": 4,
     "metadata": {},
     "output_type": "execute_result"
    }
   ],
   "source": [
    "df_codeup = pd.DataFrame(scrape_codeup_content)\n",
    "df_inshort = pd.DataFrame(scrape_inshort_content)\n",
    "df_codeup"
   ]
  },
  {
   "cell_type": "markdown",
   "id": "a23ee775",
   "metadata": {},
   "source": [
    "### Define a function named basic_clean. It should take in a string and apply some basic text cleaning to it:\n",
    "- Lowercase everything\n",
    "- Normalize unicode characters\n",
    "- Replace anything that is not a letter, number, whitespace or a single quote."
   ]
  },
  {
   "cell_type": "code",
   "execution_count": 5,
   "id": "a4df2993",
   "metadata": {},
   "outputs": [],
   "source": [
    "def make_lower(content_list):\n",
    "    cleaned_content = []\n",
    "    for content in content_list:\n",
    "        clean_content = {\n",
    "            'title': content['title'].lower(),\n",
    "            'content': content['content'].lower()\n",
    "        }\n",
    "        cleaned_content.append(clean_content)\n",
    "    return cleaned_content\n",
    "\n",
    "def make_no_special_chars(content_list):\n",
    "    cleaned_content = []\n",
    "    r_ex = r\"[^a-zA-Z0-9\\s]\"\n",
    "    for content in content_list:\n",
    "        clean_content = {\n",
    "            'title': re.sub(r_ex,'', content['title']),\n",
    "            'content': re.sub(r_ex,'', content['content'])\n",
    "        }\n",
    "        cleaned_content.append(clean_content)\n",
    "    return cleaned_content\n",
    "\n",
    "def make_normal(content_list):\n",
    "    cleaned_content = []\n",
    "    for content in content_list:\n",
    "        clean_content = {\n",
    "            'title': unicodedata.normalize('NFKD', content['title']).encode('ascii', 'ignore').decode('utf-8', 'ignore'),\n",
    "            'content': unicodedata.normalize('NFKD', content['content']).encode('ascii', 'ignore').decode('utf-8', 'ignore')\n",
    "        }\n",
    "        cleaned_content.append(clean_content)\n",
    "    return cleaned_content\n",
    "\n",
    "def basic_clean(content_list):\n",
    "    content_list = make_normal(content_list)\n",
    "    content_list = make_no_special_chars(content_list)\n",
    "    content_list = make_lower(content_list)\n",
    "    return content_list"
   ]
  },
  {
   "cell_type": "code",
   "execution_count": 6,
   "id": "9f25cd83",
   "metadata": {},
   "outputs": [],
   "source": [
    "scrape_codeup_content = basic_clean(scrape_codeup_content)\n",
    "scrape_inshort_content = basic_clean(scrape_inshort_content)"
   ]
  },
  {
   "cell_type": "markdown",
   "id": "23c24561",
   "metadata": {},
   "source": [
    "#### make a function to tokenize; take in a string and tokenize the words"
   ]
  },
  {
   "cell_type": "code",
   "execution_count": 7,
   "id": "dd48ab45",
   "metadata": {},
   "outputs": [],
   "source": [
    "def tokenize(s):\n",
    "    tokenizer = ToktokTokenizer()\n",
    "    return tokenizer.tokenize(s)\n",
    "\n",
    "def mass_tokenize(content_list):\n",
    "    for content in content_list:\n",
    "        content['clean'] = tokenize(content['content'])\n",
    "    return content_list\n"
   ]
  },
  {
   "cell_type": "code",
   "execution_count": 8,
   "id": "5f027cb2",
   "metadata": {},
   "outputs": [
    {
     "data": {
      "text/plain": [
       "['one', 'two', 'three', 'string']"
      ]
     },
     "execution_count": 8,
     "metadata": {},
     "output_type": "execute_result"
    }
   ],
   "source": [
    "tokenize('one two three string')"
   ]
  },
  {
   "cell_type": "code",
   "execution_count": 9,
   "id": "af9c9294",
   "metadata": {},
   "outputs": [],
   "source": [
    "scrape_codeup_content = mass_tokenize(scrape_codeup_content)\n",
    "scrape_inshort_content = mass_tokenize(scrape_inshort_content)"
   ]
  },
  {
   "cell_type": "markdown",
   "id": "ba7afde4",
   "metadata": {},
   "source": [
    "#### make a function to stem; accept string/text and return text after stemming the words"
   ]
  },
  {
   "cell_type": "code",
   "execution_count": 10,
   "id": "039675e6",
   "metadata": {},
   "outputs": [],
   "source": [
    "def stem(s):\n",
    "    ps = nltk.porter.PorterStemmer()\n",
    "    return [ps.stem(word) for word in s]\n",
    "\n",
    "def mass_stem(content_list):\n",
    "    for content in content_list:\n",
    "        content['stemmed'] = stem(content['clean'])\n",
    "    return content_list"
   ]
  },
  {
   "cell_type": "code",
   "execution_count": 11,
   "id": "782c6d32",
   "metadata": {},
   "outputs": [],
   "source": [
    "scrape_codeup_content = mass_stem(scrape_codeup_content)\n",
    "scrape_inshort_content = mass_stem(scrape_inshort_content)"
   ]
  },
  {
   "cell_type": "markdown",
   "id": "ef1324b8",
   "metadata": {},
   "source": [
    "#### make a function to lemmatize; take a text and return lemmatized text"
   ]
  },
  {
   "cell_type": "code",
   "execution_count": 12,
   "id": "f268f627",
   "metadata": {},
   "outputs": [],
   "source": [
    "# import nltk\n",
    "# nltk.download('all')"
   ]
  },
  {
   "cell_type": "code",
   "execution_count": 13,
   "id": "fc1f60c4",
   "metadata": {},
   "outputs": [],
   "source": [
    "def lemmatize(s):\n",
    "    wnl = nltk.stem.WordNetLemmatizer()\n",
    "    return [wnl.lemmatize(word) for word in s]\n",
    "\n",
    "def mass_lemmatize(content_list):\n",
    "    for content in content_list:\n",
    "        content['lemmatized'] = lemmatize(content['clean'])\n",
    "    return content_list"
   ]
  },
  {
   "cell_type": "code",
   "execution_count": 14,
   "id": "b283e4d8",
   "metadata": {},
   "outputs": [],
   "source": [
    "scrape_codeup_content = mass_lemmatize(scrape_codeup_content)\n",
    "scrape_inshort_content = mass_lemmatize(scrape_inshort_content)"
   ]
  },
  {
   "cell_type": "markdown",
   "id": "ba379c7e",
   "metadata": {},
   "source": [
    "#### make a function to remove stopwords, accept text and return text with stop words removed. utilize extra parameters to include any words we want to include and any we dont want to remove"
   ]
  },
  {
   "cell_type": "code",
   "execution_count": 15,
   "id": "80bf4eb6",
   "metadata": {},
   "outputs": [],
   "source": [
    "def remove_stopwords(s, extra_words = ['codeup'], exclude_words = ['shan']):\n",
    "    stopwords_list = nltk.corpus.stopwords.words('english')\n",
    "    stopwords_list = stopwords_list + extra_words\n",
    "    return [word for word in s if word not in stopwords_list]\n",
    "\n",
    "def mass_remove_stopwords(content_list):\n",
    "    for content in content_list:\n",
    "        content['clean'] = remove_stopwords(content['clean'])\n",
    "    return content_list"
   ]
  },
  {
   "cell_type": "code",
   "execution_count": 16,
   "id": "43aaaa22",
   "metadata": {},
   "outputs": [],
   "source": [
    "scrape_codeup_content = mass_remove_stopwords(scrape_codeup_content)\n",
    "scrape_inshort_content = mass_remove_stopwords(scrape_inshort_content)"
   ]
  },
  {
   "cell_type": "markdown",
   "id": "222a3962",
   "metadata": {},
   "source": [
    "#### use data from the acquire to produce df of news articles"
   ]
  },
  {
   "cell_type": "code",
   "execution_count": 17,
   "id": "10fddbdf",
   "metadata": {},
   "outputs": [
    {
     "name": "stdout",
     "output_type": "stream",
     "text": [
      "Found File\n"
     ]
    },
    {
     "data": {
      "text/html": [
       "<div>\n",
       "<style scoped>\n",
       "    .dataframe tbody tr th:only-of-type {\n",
       "        vertical-align: middle;\n",
       "    }\n",
       "\n",
       "    .dataframe tbody tr th {\n",
       "        vertical-align: top;\n",
       "    }\n",
       "\n",
       "    .dataframe thead th {\n",
       "        text-align: right;\n",
       "    }\n",
       "</style>\n",
       "<table border=\"1\" class=\"dataframe\">\n",
       "  <thead>\n",
       "    <tr style=\"text-align: right;\">\n",
       "      <th></th>\n",
       "      <th>title</th>\n",
       "      <th>content</th>\n",
       "      <th>category</th>\n",
       "    </tr>\n",
       "  </thead>\n",
       "  <tbody>\n",
       "    <tr>\n",
       "      <th>0</th>\n",
       "      <td>ED arrests former NSE CEO Ravi Narain in money...</td>\n",
       "      <td>The Enforcement Directorate has arrested Ravi ...</td>\n",
       "      <td>business</td>\n",
       "    </tr>\n",
       "    <tr>\n",
       "      <th>1</th>\n",
       "      <td>Musk's lawyer seeks to delay Twitter trial to ...</td>\n",
       "      <td>Tesla CEO Elon Musk's lawyer urged that the tr...</td>\n",
       "      <td>business</td>\n",
       "    </tr>\n",
       "    <tr>\n",
       "      <th>2</th>\n",
       "      <td>No sense to buy Twitter if we're heading into ...</td>\n",
       "      <td>Amid their lawsuit, Twitter's lawyer revealed ...</td>\n",
       "      <td>business</td>\n",
       "    </tr>\n",
       "    <tr>\n",
       "      <th>3</th>\n",
       "      <td>ByteDance fires hundreds of employees from vid...</td>\n",
       "      <td>TikTok's parent company ByteDance has reported...</td>\n",
       "      <td>business</td>\n",
       "    </tr>\n",
       "    <tr>\n",
       "      <th>4</th>\n",
       "      <td>Are you kidding me: EaseMyTrip Co-founder shar...</td>\n",
       "      <td>EaseMyTrip Co-founder Prashant Pitti took to T...</td>\n",
       "      <td>business</td>\n",
       "    </tr>\n",
       "    <tr>\n",
       "      <th>...</th>\n",
       "      <td>...</td>\n",
       "      <td>...</td>\n",
       "      <td>...</td>\n",
       "    </tr>\n",
       "    <tr>\n",
       "      <th>93</th>\n",
       "      <td>Didn't know much about Vicky, was won over whe...</td>\n",
       "      <td>Actress Katrina Kaif, during her appearance on...</td>\n",
       "      <td>entertainment</td>\n",
       "    </tr>\n",
       "    <tr>\n",
       "      <th>94</th>\n",
       "      <td>Superhero films worldwide have high budgets, w...</td>\n",
       "      <td>Filmmaker Rakesh Roshan, speaking about 'Krris...</td>\n",
       "      <td>entertainment</td>\n",
       "    </tr>\n",
       "    <tr>\n",
       "      <th>95</th>\n",
       "      <td>Parents rejected films after 'Iqbal' for me to...</td>\n",
       "      <td>Actress Shweta Basu Prasad, who featured as a ...</td>\n",
       "      <td>entertainment</td>\n",
       "    </tr>\n",
       "    <tr>\n",
       "      <th>96</th>\n",
       "      <td>Was planning to do an album with Bamba Bakya: ...</td>\n",
       "      <td>Composer-singer AR Rahman remembered late play...</td>\n",
       "      <td>entertainment</td>\n",
       "    </tr>\n",
       "    <tr>\n",
       "      <th>97</th>\n",
       "      <td>Still the boy who cherishes time with you: Dul...</td>\n",
       "      <td>On Mammootty's birthday, actor Dulquer Salmaan...</td>\n",
       "      <td>entertainment</td>\n",
       "    </tr>\n",
       "  </tbody>\n",
       "</table>\n",
       "<p>98 rows × 3 columns</p>\n",
       "</div>"
      ],
      "text/plain": [
       "                                                title  \\\n",
       "0   ED arrests former NSE CEO Ravi Narain in money...   \n",
       "1   Musk's lawyer seeks to delay Twitter trial to ...   \n",
       "2   No sense to buy Twitter if we're heading into ...   \n",
       "3   ByteDance fires hundreds of employees from vid...   \n",
       "4   Are you kidding me: EaseMyTrip Co-founder shar...   \n",
       "..                                                ...   \n",
       "93  Didn't know much about Vicky, was won over whe...   \n",
       "94  Superhero films worldwide have high budgets, w...   \n",
       "95  Parents rejected films after 'Iqbal' for me to...   \n",
       "96  Was planning to do an album with Bamba Bakya: ...   \n",
       "97  Still the boy who cherishes time with you: Dul...   \n",
       "\n",
       "                                              content       category  \n",
       "0   The Enforcement Directorate has arrested Ravi ...       business  \n",
       "1   Tesla CEO Elon Musk's lawyer urged that the tr...       business  \n",
       "2   Amid their lawsuit, Twitter's lawyer revealed ...       business  \n",
       "3   TikTok's parent company ByteDance has reported...       business  \n",
       "4   EaseMyTrip Co-founder Prashant Pitti took to T...       business  \n",
       "..                                                ...            ...  \n",
       "93  Actress Katrina Kaif, during her appearance on...  entertainment  \n",
       "94  Filmmaker Rakesh Roshan, speaking about 'Krris...  entertainment  \n",
       "95  Actress Shweta Basu Prasad, who featured as a ...  entertainment  \n",
       "96  Composer-singer AR Rahman remembered late play...  entertainment  \n",
       "97  On Mammootty's birthday, actor Dulquer Salmaan...  entertainment  \n",
       "\n",
       "[98 rows x 3 columns]"
      ]
     },
     "execution_count": 17,
     "metadata": {},
     "output_type": "execute_result"
    }
   ],
   "source": [
    "news_df = pd.DataFrame(nlp_acquire.read_url_or_file_inshort())\n",
    "news_df"
   ]
  },
  {
   "cell_type": "markdown",
   "id": "8775a712",
   "metadata": {},
   "source": [
    "#### make a df with the blogposts"
   ]
  },
  {
   "cell_type": "code",
   "execution_count": 18,
   "id": "f71e27be",
   "metadata": {},
   "outputs": [
    {
     "name": "stdout",
     "output_type": "stream",
     "text": [
      "Found File\n"
     ]
    },
    {
     "data": {
      "text/html": [
       "<div>\n",
       "<style scoped>\n",
       "    .dataframe tbody tr th:only-of-type {\n",
       "        vertical-align: middle;\n",
       "    }\n",
       "\n",
       "    .dataframe tbody tr th {\n",
       "        vertical-align: top;\n",
       "    }\n",
       "\n",
       "    .dataframe thead th {\n",
       "        text-align: right;\n",
       "    }\n",
       "</style>\n",
       "<table border=\"1\" class=\"dataframe\">\n",
       "  <thead>\n",
       "    <tr style=\"text-align: right;\">\n",
       "      <th></th>\n",
       "      <th>title</th>\n",
       "      <th>content</th>\n",
       "    </tr>\n",
       "  </thead>\n",
       "  <tbody>\n",
       "    <tr>\n",
       "      <th>0</th>\n",
       "      <td>Is a Career in Tech Recession-Proof?</td>\n",
       "      <td>Given the current economic climate, many econo...</td>\n",
       "    </tr>\n",
       "    <tr>\n",
       "      <th>1</th>\n",
       "      <td>Codeup X Superhero Car Show &amp; Comic Con</td>\n",
       "      <td>Codeup had a blast at the San Antonio Superher...</td>\n",
       "    </tr>\n",
       "    <tr>\n",
       "      <th>2</th>\n",
       "      <td>What Jobs Can You Get After a Coding Bootcamp?...</td>\n",
       "      <td>If you’re considering a career in web developm...</td>\n",
       "    </tr>\n",
       "    <tr>\n",
       "      <th>3</th>\n",
       "      <td>Codeup’s New Dallas Campus</td>\n",
       "      <td>Codeup’s Dallas campus has a new location! For...</td>\n",
       "    </tr>\n",
       "    <tr>\n",
       "      <th>4</th>\n",
       "      <td>Codeup TV Commercial</td>\n",
       "      <td>Codeup has officially made its TV debut! Our c...</td>\n",
       "    </tr>\n",
       "    <tr>\n",
       "      <th>5</th>\n",
       "      <td>What Jobs Can You Get After a Coding Bootcamp?...</td>\n",
       "      <td>Have you been considering a career in Cloud Ad...</td>\n",
       "    </tr>\n",
       "  </tbody>\n",
       "</table>\n",
       "</div>"
      ],
      "text/plain": [
       "                                               title  \\\n",
       "0               Is a Career in Tech Recession-Proof?   \n",
       "1            Codeup X Superhero Car Show & Comic Con   \n",
       "2  What Jobs Can You Get After a Coding Bootcamp?...   \n",
       "3                         Codeup’s New Dallas Campus   \n",
       "4                               Codeup TV Commercial   \n",
       "5  What Jobs Can You Get After a Coding Bootcamp?...   \n",
       "\n",
       "                                             content  \n",
       "0  Given the current economic climate, many econo...  \n",
       "1  Codeup had a blast at the San Antonio Superher...  \n",
       "2  If you’re considering a career in web developm...  \n",
       "3  Codeup’s Dallas campus has a new location! For...  \n",
       "4  Codeup has officially made its TV debut! Our c...  \n",
       "5  Have you been considering a career in Cloud Ad...  "
      ]
     },
     "execution_count": 18,
     "metadata": {},
     "output_type": "execute_result"
    }
   ],
   "source": [
    "codeup_df = pd.DataFrame(nlp_acquire.read_url_or_file_codeup())\n",
    "codeup_df"
   ]
  },
  {
   "cell_type": "markdown",
   "id": "89ae3c51",
   "metadata": {},
   "source": [
    "#### For each dataframe, produce the following columns:\n",
    "\n",
    "1. title to hold the title original to hold the original article/post content \n",
    "2. clean to hold the normalized and tokenized original with the stopwords removed. \n",
    "3. stemmed to hold the stemmed version of the cleaned data. \n",
    "4. lemmatized to hold the lemmatized version of the cleaned data."
   ]
  },
  {
   "cell_type": "code",
   "execution_count": 19,
   "id": "0b2950d1",
   "metadata": {},
   "outputs": [],
   "source": [
    "def make_dataframe(text_dict):\n",
    "    text_dict = basic_clean(text_dict)\n",
    "    text_dict = mass_tokenize(text_dict)\n",
    "    text_dict = mass_remove_stopwords(text_dict)\n",
    "    text_dict = mass_stem(text_dict)\n",
    "    text_dict = mass_lemmatize(text_dict)\n",
    "    return pd.DataFrame(text_dict)"
   ]
  },
  {
   "cell_type": "code",
   "execution_count": 20,
   "id": "18ad2ee6",
   "metadata": {},
   "outputs": [
    {
     "name": "stdout",
     "output_type": "stream",
     "text": [
      "Found File\n"
     ]
    },
    {
     "data": {
      "text/html": [
       "<div>\n",
       "<style scoped>\n",
       "    .dataframe tbody tr th:only-of-type {\n",
       "        vertical-align: middle;\n",
       "    }\n",
       "\n",
       "    .dataframe tbody tr th {\n",
       "        vertical-align: top;\n",
       "    }\n",
       "\n",
       "    .dataframe thead th {\n",
       "        text-align: right;\n",
       "    }\n",
       "</style>\n",
       "<table border=\"1\" class=\"dataframe\">\n",
       "  <thead>\n",
       "    <tr style=\"text-align: right;\">\n",
       "      <th></th>\n",
       "      <th>title</th>\n",
       "      <th>content</th>\n",
       "      <th>clean</th>\n",
       "      <th>stemmed</th>\n",
       "      <th>lemmatized</th>\n",
       "    </tr>\n",
       "  </thead>\n",
       "  <tbody>\n",
       "    <tr>\n",
       "      <th>0</th>\n",
       "      <td>is a career in tech recessionproof</td>\n",
       "      <td>given the current economic climate many econom...</td>\n",
       "      <td>[given, current, economic, climate, many, econ...</td>\n",
       "      <td>[given, current, econom, climat, mani, economi...</td>\n",
       "      <td>[given, current, economic, climate, many, econ...</td>\n",
       "    </tr>\n",
       "    <tr>\n",
       "      <th>1</th>\n",
       "      <td>codeup x superhero car show  comic con</td>\n",
       "      <td>codeup had a blast at the san antonio superher...</td>\n",
       "      <td>[blast, san, antonio, superhero, car, show, co...</td>\n",
       "      <td>[blast, san, antonio, superhero, car, show, co...</td>\n",
       "      <td>[blast, san, antonio, superhero, car, show, co...</td>\n",
       "    </tr>\n",
       "    <tr>\n",
       "      <th>2</th>\n",
       "      <td>what jobs can you get after a coding bootcamp ...</td>\n",
       "      <td>if youre considering a career in web developme...</td>\n",
       "      <td>[youre, considering, career, web, development,...</td>\n",
       "      <td>[your, consid, career, web, develop, dont, kno...</td>\n",
       "      <td>[youre, considering, career, web, development,...</td>\n",
       "    </tr>\n",
       "    <tr>\n",
       "      <th>3</th>\n",
       "      <td>codeups new dallas campus</td>\n",
       "      <td>codeups dallas campus has a new location for m...</td>\n",
       "      <td>[codeups, dallas, campus, new, location, two, ...</td>\n",
       "      <td>[codeup, dalla, campu, new, locat, two, year, ...</td>\n",
       "      <td>[codeups, dallas, campus, new, location, two, ...</td>\n",
       "    </tr>\n",
       "    <tr>\n",
       "      <th>4</th>\n",
       "      <td>codeup tv commercial</td>\n",
       "      <td>codeup has officially made its tv debut our co...</td>\n",
       "      <td>[officially, made, tv, debut, community, stude...</td>\n",
       "      <td>[offici, made, tv, debut, commun, student, sta...</td>\n",
       "      <td>[officially, made, tv, debut, community, stude...</td>\n",
       "    </tr>\n",
       "    <tr>\n",
       "      <th>5</th>\n",
       "      <td>what jobs can you get after a coding bootcamp ...</td>\n",
       "      <td>have you been considering a career in cloud ad...</td>\n",
       "      <td>[considering, career, cloud, administration, i...</td>\n",
       "      <td>[consid, career, cloud, administr, idea, job, ...</td>\n",
       "      <td>[considering, career, cloud, administration, i...</td>\n",
       "    </tr>\n",
       "  </tbody>\n",
       "</table>\n",
       "</div>"
      ],
      "text/plain": [
       "                                               title  \\\n",
       "0                 is a career in tech recessionproof   \n",
       "1             codeup x superhero car show  comic con   \n",
       "2  what jobs can you get after a coding bootcamp ...   \n",
       "3                          codeups new dallas campus   \n",
       "4                               codeup tv commercial   \n",
       "5  what jobs can you get after a coding bootcamp ...   \n",
       "\n",
       "                                             content  \\\n",
       "0  given the current economic climate many econom...   \n",
       "1  codeup had a blast at the san antonio superher...   \n",
       "2  if youre considering a career in web developme...   \n",
       "3  codeups dallas campus has a new location for m...   \n",
       "4  codeup has officially made its tv debut our co...   \n",
       "5  have you been considering a career in cloud ad...   \n",
       "\n",
       "                                               clean  \\\n",
       "0  [given, current, economic, climate, many, econ...   \n",
       "1  [blast, san, antonio, superhero, car, show, co...   \n",
       "2  [youre, considering, career, web, development,...   \n",
       "3  [codeups, dallas, campus, new, location, two, ...   \n",
       "4  [officially, made, tv, debut, community, stude...   \n",
       "5  [considering, career, cloud, administration, i...   \n",
       "\n",
       "                                             stemmed  \\\n",
       "0  [given, current, econom, climat, mani, economi...   \n",
       "1  [blast, san, antonio, superhero, car, show, co...   \n",
       "2  [your, consid, career, web, develop, dont, kno...   \n",
       "3  [codeup, dalla, campu, new, locat, two, year, ...   \n",
       "4  [offici, made, tv, debut, commun, student, sta...   \n",
       "5  [consid, career, cloud, administr, idea, job, ...   \n",
       "\n",
       "                                          lemmatized  \n",
       "0  [given, current, economic, climate, many, econ...  \n",
       "1  [blast, san, antonio, superhero, car, show, co...  \n",
       "2  [youre, considering, career, web, development,...  \n",
       "3  [codeups, dallas, campus, new, location, two, ...  \n",
       "4  [officially, made, tv, debut, community, stude...  \n",
       "5  [considering, career, cloud, administration, i...  "
      ]
     },
     "execution_count": 20,
     "metadata": {},
     "output_type": "execute_result"
    }
   ],
   "source": [
    "codeup_df = make_dataframe(nlp_acquire.read_url_or_file_codeup())\n",
    "codeup_df"
   ]
  },
  {
   "cell_type": "code",
   "execution_count": null,
   "id": "8461744e",
   "metadata": {},
   "outputs": [],
   "source": [
    "news_df = make_dataframe(acquire.read_url_or_file_inshort())\n",
    "news_df"
   ]
  }
 ],
 "metadata": {
  "kernelspec": {
   "display_name": "Python 3 (ipykernel)",
   "language": "python",
   "name": "python3"
  },
  "language_info": {
   "codemirror_mode": {
    "name": "ipython",
    "version": 3
   },
   "file_extension": ".py",
   "mimetype": "text/x-python",
   "name": "python",
   "nbconvert_exporter": "python",
   "pygments_lexer": "ipython3",
   "version": "3.9.12"
  }
 },
 "nbformat": 4,
 "nbformat_minor": 5
}
